{
 "cells": [
  {
   "cell_type": "markdown",
   "metadata": {},
   "source": [
    "### Singular Value Decomposition\n",
    "\n",
    "Chapter 5에서 배운 matrix A에 대한 diagonalization은($ A = S\\Lambda S^{-1} $) nxn 행렬 그리고 S의 inverse 가 존재했어야만 했다. <br>\n",
    "m x n의 임의 행렬일 때도, eigenvalue 가 n개가 나오지 않아도 decomposition 할 수 있도록 하는 것이 SVD이다.\n",
    "$ \\to A = U \\Sigma V^{T} $ <br>\n",
    "U (m x m)와 V ( n x n )는 Unitary, Orthonormal matrix이고, $ \\Sigma $는 m x n Diagonal matrix이지만 모든 diagonal term이 non-zero는 아닌 행렬이다.\n",
    "\n",
    "remember) m x n Matrix A에 대해 <br> \n",
    "$ \\mathbf{C}( A ) \\in \\mathbf{R}^{m} \\perp  \\mathbf{N}( A^{T} ) \\in \\mathbf{R}^{m} $ <br>\n",
    "$ \\mathbf{C}( A^{T} ) \\in \\mathbf{R}^{n} \\perp  \\mathbf{N}( A ) \\in \\mathbf{R}^{n} $\n",
    "\n",
    "#### Procedure of SVD\n",
    "\n",
    "First Find the Eigenvalues & Eigenvectors of $ A^{T}A $<br>\n",
    "$ A^{T}A $ is symmetric.  <br>\n",
    "$ A^{T}A x = \\lambda x \\to x^{T} A^{T}A x = \\lambda x^{T} x \\to \\lambda = {{||Ax||^{2}}\\over{||x||^{2}}} \\ge 0  $ <br>\n",
    "since $ A^{T}A $ is symmetric, the eigenvectors are orthonormal. <br>\n",
    "\n",
    "assume that there are r non-zero eigenvalues. $ \\lambda_{r+1}, ... ,\\lambda_{n} = 0 $ <br>\n",
    "$ \\lambda_{1}, ..., \\lambda_{r} \\to $ 0 이아닌 eigenvalue의 루트를 취한 것을 Singular Value라 함. ($\\sqrt{\\lambda_{i}} = \\sigma_{i}  , i = 1,...,r$) <br>\n",
    "그리고 이 singular value로 matrix $\\Sigma$(m x n)를 구성\n",
    "$$ \\Sigma = \\begin{bmatrix} \\sigma_{1} & & & & \\\\ & \\ddots & & & \\\\ & & \\sigma_{r}  & & \\\\ & & & 0 & \\\\ & & & & \\ddots  \\end{bmatrix} $$\n",
    "\n",
    "eigenvalue$ \\lambda_{i} $에 대응하는 eigenvectors $ v_{1}, ... ,v_{r} $에 대한 matrix <br>\n",
    "$ V_{1} = \\ \\begin{bmatrix} v_{1}, ... ,v_{r} \\end{bmatrix}  \\in \\mathbf{R}^{n}$ 이고,  $ \\mathbf{C}( A^{T} ) $(row space)의 basis를 구성한다.($A^{T}$의 rank.\n",
    "\n",
    "for $ \\lambda_{r+1}, ... ,\\lambda_{n} = 0 $ <br>\n",
    "$ A^{T}Ax_{j}= \\lambda_{j}x_{j} = 0  $ (j = r+1, ... , n)<br>\n",
    "$  A^{T}Ax_{j}=0 $이므로 $ x_{j} $는 $ \\mathbf{N}(A^{T}A) $를 구성하는 basis vector 이며 $ \\mathbf{N}(A^{T}A) = \\mathbf{N}(A) $이다. <br>\n",
    "즉, $ v_{r+1}, ... ,v_{n} \\to \\mathbf{N}(A) $의 basis <br>\n",
    "$ V_{2} = \\ \\begin{bmatrix} v_{r+1}, ... ,v_{n}  \\end{bmatrix} $<br>\n",
    "그리고 V를 V1과 V2로 구성한다.\n",
    "$$  V=  \\begin{bmatrix}V_{1}  & V_{2} \\end{bmatrix}   $$\n",
    "\n",
    "$V_{1}, V_{2}$ 모두 orthonormal이므로 V는 unitary matrix의 조건을 만족한다. $V^{T}V = I$\n",
    "\n",
    "Let's find matrix U<br>\n",
    "$  A  = U \\Sigma V^{T} \\to AV = U \\Sigma$ 에서<br>\n",
    "$AV = A \\begin{bmatrix}V_{1}  & V_{2} \\end{bmatrix} = \\begin{bmatrix} AV_{1}  & 0 \\cdots \\end{bmatrix}  $<br>\n",
    "\n",
    "$ U\\Sigma =  \\begin{bmatrix} u_{1} & \\cdots & u_{r} & u_{r+1} & \\cdots & u_{m} \\end{bmatrix} \\begin{bmatrix} \\sigma_{1} & & & & \\\\ & \\ddots & & & \\\\ & & \\sigma_{r}  & & \\\\ & & & 0 & \\\\ & & & & \\ddots  \\end{bmatrix} = \\begin{bmatrix} \\sigma_{1}u_{1} & \\cdots & \\sigma_{r}u_{r} & 0 & \\cdots & 0\\end{bmatrix} $\n",
    "따라서 0이 아닌 부분인 r 까지는 구할 수 있다. $ u_{i} = {{1}\\over{\\sigma_{i}}}Av_{i} \\in \\mathbf{R}^{m} $ (i=1, ..., r)<br>\n",
    "$ u_{i} $가 orthonormal 확인해보면, $  u_{i}^{T}u_{j} = {{1}\\over{\\sigma_{i}}}(Av_{i})^{T}{{1}\\over{\\sigma_{j}}}Av_{j} = {{1}\\over{\\sigma_{i}\\sigma_{j}}}v_{i}^{T}A^{T}Av_{j} =  {{1}\\over{\\sigma_{i}\\sigma_{j}}}v_{i}^{T}\\lambda_{j}v_{j} = \\delta_{ij} $ (if i=j then 1, else 0) 델타함수.<br>\n",
    "그리고 $ u_{i} $는 $ \\mathbf{C}( A ) $(column space)의 basis를 구성한다. (i=1, ...,r) <br>\n",
    "$ U_{1} =  \\begin{bmatrix} u_{1} & \\cdots & u_{r} \\end{bmatrix} $\n",
    "\n",
    " $ u_{r+1} , ... , u_{m} \\in \\mathbf{R}^{m}$에 대해서는 m-r개(dimension) 면서 unitary 해야하니까<br>\n",
    "$ \\to $ columnspace하고 서로 수직인 벡터로 만든다. $ \\mathbf{N}( A^{T} ) $(left null space)의 basis를 구성하는 벡터들.<br>\n",
    "$U_{2} = \\begin{bmatrix}  u_{r+1} & \\cdots & u_{m} \\end{bmatrix} $ 이며 최종적으로 mxm행렬 U를 구했다. SVD 요소 중 $\\Sigma$만 Unique하다. <br>\n",
    "$$ U =  \\begin{bmatrix}  U_{1} & U_{2} \\end{bmatrix}  $$\n",
    "\n",
    "$$ A_{mxn} =  U \\Sigma V^{T} = \\begin{bmatrix}  U_{1} & U_{2} \\end{bmatrix}_{mxm}   \\begin{bmatrix}  \\Sigma_{1} & 0 \\\\ 0 & 0\\end{bmatrix}_{mxn}     \\begin{bmatrix}V_{1}^{T}  \\\\ V_{2}^{T} \\end{bmatrix}_{nxn}    $$\n"
   ]
  }
 ],
 "metadata": {
  "kernelspec": {
   "display_name": "Python 3",
   "language": "python",
   "name": "python3"
  },
  "language_info": {
   "codemirror_mode": {
    "name": "ipython",
    "version": 3
   },
   "file_extension": ".py",
   "mimetype": "text/x-python",
   "name": "python",
   "nbconvert_exporter": "python",
   "pygments_lexer": "ipython3",
   "version": "3.6.0"
  }
 },
 "nbformat": 4,
 "nbformat_minor": 2
}
