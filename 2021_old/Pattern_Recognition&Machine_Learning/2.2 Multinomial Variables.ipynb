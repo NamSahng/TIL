{
 "cells": [
  {
   "cell_type": "markdown",
   "metadata": {},
   "source": []
  },
  {
   "cell_type": "markdown",
   "metadata": {},
   "source": [
    "$ \\mathbf{x} = (0,0,1,0,0,0)^{T} $\n",
    "\n",
    "$ p(\\mathbf{x}|\\mu) = \\prod_{k=1}^{K} \\mu_{k}^{x_{k}} $\n",
    "\n",
    "$ \\sum_{\\mathbf{x}} p(\\mathbf{x}|\\mu) = \\sum_{k=1}^{K} \\mu_{k} = 1 $\n",
    "\n",
    "$ \\mathbb{E} \\left[ \\mathbf{x}|\\mu \\right] = \\sum_{\\mathbf{x}} p(\\mathbf{x}|\\mu) \\mathbf{x} = (\\mu_{1}, ... ,\\mu_{K})^{T} = \\mathbf{\\mu}   $\n",
    "\n",
    "$ p(\\mathcal{D}|\\mu) = \\prod_{n=1}^{N}\\prod_{k=1}^{K} \\mu_{k}^{x_{nk}} = \\prod_{k=1}^{K} \\mu_{k}^{\\sum_{n}x_{nk}} = \\prod_{k=1}^{K} \\mu_{k}^{m_{k}}   $\n",
    "\n",
    "$ {m_{k}} = \\sum_{n} x_{nk} $\n",
    "\n",
    "$ \\sum_{k=1}^{K} m_{k}ln ( \\mu_{k} )+ \\lambda \\left( \\sum_{k=1}^{K} \\mu_{k} -1 \\right) $\n",
    "\n",
    "$ \\mu_{k} = m_{k} / \\lambda $\n",
    "\n",
    "$ \\mu_{k}^{ML} = {{m_{k}}\\over{N}} $\n",
    "\n",
    "$ Mult(m_{1},m_{2}, ... , m_{K} | \\mu, N) = {N \\choose m_{1}m_{2}...m_{K}} \\prod_{k-1}^{K} $\n",
    "\n",
    "$ {N \\choose m_{1}m_{2}...m_{K}} = {{N!}\\over{m_{1}!m_{2}!...m_{K}!}} $\n",
    "\n",
    "$ \\sum_{k=1}^{K} {m_{k}} = N $\n",
    "\n",
    "$ p(\\mu | \\alpha) \\propto \\prod_{k=1}^{K} \\mu_{k}^{\\alpha_{k}-1}  $\n",
    "\n",
    "$ Dir( \\mu | \\alpha ) = {{\\Gamma(\\alpha_{0})} \\over {\\Gamma(\\alpha_{1}) ... \\Gamma(\\alpha_{K}) } }  \\prod_{k=1}^{K} \\mu_{k}^{\\alpha_{k}-1}    $\n",
    "\n",
    "$ \\alpha_{0} = \\sum_{k=1}^{K} \\alpha_{k} $\n",
    "\n",
    "$  p(\\mathcal{D}|\\mu, \\alpha) \\propto  p(\\mathcal{D}|\\mu)   p(\\mathcal{D}|\\alpha)  \\propto  \\prod_{k=1}^{K} \\mu_{k}^{\\alpha_{k}+m_{k}-1}   $\n",
    "\n",
    "$ p(\\mathcal{D}|\\mu, \\alpha) = Dir(\\mu | \\alpha + m ) = {{\\Gamma(\\alpha_{0} + N)} \\over {\\Gamma(\\alpha_{1}+m_{1}) ... \\Gamma(\\alpha_{K} + m_{}) } }  \\prod_{k=1}^{K}  \\mu_{k}^{\\alpha_{k}+m_{k}-1}  $\n",
    "\n",
    "$  $"
   ]
  },
  {
   "cell_type": "markdown",
   "metadata": {},
   "source": []
  }
 ],
 "metadata": {
  "kernelspec": {
   "display_name": "Python 3",
   "language": "python",
   "name": "python3"
  },
  "language_info": {
   "codemirror_mode": {
    "name": "ipython",
    "version": 3
   },
   "file_extension": ".py",
   "mimetype": "text/x-python",
   "name": "python",
   "nbconvert_exporter": "python",
   "pygments_lexer": "ipython3",
   "version": "3.6.0"
  }
 },
 "nbformat": 4,
 "nbformat_minor": 2
}
