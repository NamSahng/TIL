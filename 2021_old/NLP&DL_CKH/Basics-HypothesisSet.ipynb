{
 "cells": [
  {
   "cell_type": "markdown",
   "metadata": {},
   "source": [
    "### Hypothesis set\n",
    "\n",
    "- What kind of machine learning approach will we consider?\n",
    "  - Classification:\n",
    "     - Support vector machines, Naïve Bayes classifier, logistic regression, …?\n",
    "  - Regression:\n",
    "     - Support vector regression, Linear regression, Gaussian process, …?\n",
    "\n",
    "- How are the hyperparameters sets?\n",
    "    - Support vector machines: regularization coefficient\n",
    "    - Gaussian process: kernel function \n",
    "\n",
    "이렇게 무수히 많은 것 중에 뉴럴넷을 중점적으로 보자. <br>\n",
    "뉴럴 넷에서는 일반적으로 2가지를 정해야한다.\n",
    "\n",
    "- Network  Architecture : Graph를 어떻게 만들 것인가. ex) AlexNet, GoogLeNet <br>\n",
    "- Architeucture 내의 파라미터 값: Each model in the set $ M \\in \\mathcal{H}$ is characterized by its parameters $ \\theta $  <br>\n",
    "    - Weights and bias vectors define one model in the hypothesis set.\n",
    "\n",
    "하나의 Hypothesis Set 안에서도 무한한 모델들이 있다.<br>\n",
    "수많은 NN Archtecture가 가진 공통적 특성, 또는 NN의 기본 구조에 대한 이해를 해보자.<br>\n",
    "뉴럴넷이 무엇인가 의 고민 뇌랑 관련이 있다하는데, 초창기에는 그랬지만 이제는 관련이 없고(이제는 Neural Science와 다른 길을 갔다.) 오히려 NN은 Graph와 같다고 생각한다.\n",
    "\n",
    "###  Directed Acyclic Graph\n",
    "\n",
    "<img src=\"./image/img_DAG.PNG\" width=\"70%\">\n",
    "\n",
    "Solid Circle: Variable, 바꿔나갈 값들 <br>\n",
    "Squares: 계산하는 노드.\n",
    "\n",
    "방향성이 있고(끝의 leaf로 가도록) 싸이클이 없는 Graph로 볼 것이다. 이러한 관점이 Extendable 하다.\n",
    "\n",
    "아무리 복잡한 수식도 graph로 표현 가능하다. <br>\n",
    "- EX) Logistic Regression & Polynomial\n",
    "<img src=\"./image/img_exDAG.PNG\" width=\"70%\">\n",
    "\n",
    "- DAG로 NN을 보는 관점의 장점 <br>\n",
    "    - 높은 수준의 추상화가 되어있지만 놓지는 것은 없으며, 비순환 그래프 안에 있는 노드들이 어떻게 구현되있고, 벡엔드 에서 어떻게 쓰고 있는지 고려할 필요가 없다. \n",
    "    - 객체 지향 프로그래밍 패러다임에 적합.\n",
    "    - 코드 재사용이 용이.\n",
    "\n",
    "이러한 것들이 많은 논문들이 나타날 수 있는 것의 요인이 된다.\n"
   ]
  },
  {
   "cell_type": "markdown",
   "metadata": {},
   "source": [
    "### Reference: \n",
    "\n",
    "- https://www.edwith.org/deepnlp 조경현교수님, 딥러닝을 이용한 자연어 처리 강의 및 강의 자료 <br>\n",
    "- https://wikidocs.net/21758 (위 강의 강의록)"
   ]
  }
 ],
 "metadata": {
  "kernelspec": {
   "display_name": "Python 3",
   "language": "python",
   "name": "python3"
  },
  "language_info": {
   "codemirror_mode": {
    "name": "ipython",
    "version": 3
   },
   "file_extension": ".py",
   "mimetype": "text/x-python",
   "name": "python",
   "nbconvert_exporter": "python",
   "pygments_lexer": "ipython3",
   "version": "3.6.0"
  }
 },
 "nbformat": 4,
 "nbformat_minor": 2
}
