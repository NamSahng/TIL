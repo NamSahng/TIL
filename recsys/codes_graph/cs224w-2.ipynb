{
 "cells": [
  {
   "cell_type": "markdown",
   "id": "82339c3b",
   "metadata": {},
   "source": [
    "# 1 PyTorch Geometric (Datasets and Data)\n",
    "\n",
    "\n",
    "PyTorch Geometric generally has two classes for storing or transforming the graphs into tensor format. One is the `torch_geometric.datasets`, which contains a variety of common graph datasets. Another one is `torch_geometric.data` that provides the data handling of graphs in PyTorch tensors.\n",
    "\n",
    "In this section, we will learn how to use the `torch_geometric.datasets` and `torch_geometric.data`."
   ]
  },
  {
   "cell_type": "markdown",
   "id": "13878d8d",
   "metadata": {},
   "source": [
    "## PyG Datasets\n",
    "\n",
    "The `torch_geometric.datasets` has many common graph datasets. Here we will explore the usage by using one example dataset."
   ]
  },
  {
   "cell_type": "code",
   "execution_count": 1,
   "id": "12997203",
   "metadata": {},
   "outputs": [
    {
     "name": "stdout",
     "output_type": "stream",
     "text": [
      "ENZYMES(600)\n"
     ]
    }
   ],
   "source": [
    "from torch_geometric.datasets import TUDataset\n",
    "\n",
    "root = './enzymes'\n",
    "name = 'ENZYMES'\n",
    "\n",
    "# The ENZYMES dataset\n",
    "pyg_dataset= TUDataset('./enzymes', 'ENZYMES')\n",
    "\n",
    "# You can find that there are 600 graphs in this dataset\n",
    "print(pyg_dataset)"
   ]
  },
  {
   "cell_type": "code",
   "execution_count": 2,
   "id": "794e2f04",
   "metadata": {},
   "outputs": [
    {
     "data": {
      "text/plain": [
       "torch_geometric.datasets.tu_dataset.TUDataset"
      ]
     },
     "execution_count": 2,
     "metadata": {},
     "output_type": "execute_result"
    }
   ],
   "source": [
    "type(pyg_dataset)"
   ]
  },
  {
   "cell_type": "code",
   "execution_count": 3,
   "id": "66a9827c",
   "metadata": {},
   "outputs": [
    {
     "data": {
      "text/plain": [
       "6"
      ]
     },
     "execution_count": 3,
     "metadata": {},
     "output_type": "execute_result"
    }
   ],
   "source": [
    "pyg_dataset.num_classes"
   ]
  },
  {
   "cell_type": "markdown",
   "id": "180c3436",
   "metadata": {},
   "source": [
    "## Question 1: What is the number of classes and number of features in the ENZYMES dataset? (5 points)"
   ]
  },
  {
   "cell_type": "code",
   "execution_count": 4,
   "id": "a1398426",
   "metadata": {},
   "outputs": [],
   "source": [
    "def get_num_classes(pyg_dataset):\n",
    "    # TODO: Implement this function that takes a PyG dataset object\n",
    "    # and return the number of classes for that dataset.\n",
    "\n",
    "    num_classes = 0\n",
    "\n",
    "    ############# Your code here ############\n",
    "    ## (~1 line of code)\n",
    "    ## Note\n",
    "    ## 1. Colab autocomplete functionality might be useful.\n",
    "    num_classes = pyg_dataset.num_classes\n",
    "    #########################################\n",
    "\n",
    "    return num_classes\n",
    "\n",
    "def get_num_features(pyg_dataset):\n",
    "    # TODO: Implement this function that takes a PyG dataset object\n",
    "    # and return the number of features for that dataset.\n",
    "\n",
    "    num_features = 0\n",
    "\n",
    "    ############# Your code here ############\n",
    "    ## (~1 line of code)\n",
    "    ## Note\n",
    "    ## 1. Colab autocomplete functionality might be useful.\n",
    "    num_features = pyg_dataset.num_features\n",
    "    #########################################\n",
    "\n",
    "    return num_features\n",
    "\n",
    "    # You may find that some information need to be stored in the dataset level,\n",
    "    # specifically if there are multiple graphs in the dataset\n",
    "\n",
    "    num_classes = get_num_classes(pyg_dataset)\n",
    "    num_features = get_num_features(pyg_dataset)\n",
    "    print(\"{} dataset has {} classes\".format(name, num_classes))\n",
    "    print(\"{} dataset has {} features\".format(name, num_features))"
   ]
  },
  {
   "cell_type": "markdown",
   "id": "d1caa1ac",
   "metadata": {},
   "source": [
    "## PyG Data\n",
    "\n",
    "Each PyG dataset usually stores a list of `torch_geometric.data.Data` objects. Each `torch_geometric.data.Data` object usually represents a graph. You can easily get the `Data` object by indexing on the dataset.\n",
    "\n",
    "For more information such as what will be stored in `Data` object, please refer to the [documentation](https://pytorch-geometric.readthedocs.io/en/latest/modules/data.html#torch_geometric.data.Data)."
   ]
  },
  {
   "cell_type": "markdown",
   "id": "2da360e2",
   "metadata": {},
   "source": [
    "## Question 2: What is the label of the graph (index 100 in the ENZYMES dataset)? (5 points)"
   ]
  },
  {
   "cell_type": "code",
   "execution_count": 5,
   "id": "288d2230",
   "metadata": {},
   "outputs": [
    {
     "name": "stdout",
     "output_type": "stream",
     "text": [
      "Data(edge_index=[2, 168], x=[37, 3], y=[1])\n",
      "Graph with index 100 has label 4\n"
     ]
    }
   ],
   "source": [
    "def get_graph_class(pyg_dataset, idx):\n",
    "    # TODO: Implement this function that takes a PyG dataset object,\n",
    "    # the index of the graph in dataset, and returns the class/label \n",
    "    # of the graph (in integer).\n",
    "\n",
    "    label = -1\n",
    "\n",
    "    ############# Your code here ############\n",
    "    ## (~1 line of code)\n",
    "    label = int(pyg_dataset[idx]['y'])\n",
    "    #########################################\n",
    "\n",
    "    return label\n",
    "\n",
    "# Here pyg_dataset is a dataset for graph classification\n",
    "graph_0 = pyg_dataset[0]\n",
    "print(graph_0)\n",
    "idx = 100\n",
    "label = get_graph_class(pyg_dataset, idx)\n",
    "print('Graph with index {} has label {}'.format(idx, label))"
   ]
  },
  {
   "cell_type": "markdown",
   "id": "7c018a4a",
   "metadata": {},
   "source": [
    "## Question 3: What is the number of edges for the graph (index 200 in the ENZYMES dataset)? (5 points)"
   ]
  },
  {
   "cell_type": "code",
   "execution_count": 6,
   "id": "5eec6d20",
   "metadata": {},
   "outputs": [
    {
     "data": {
      "text/plain": [
       "torch.Size([2, 92])"
      ]
     },
     "execution_count": 6,
     "metadata": {},
     "output_type": "execute_result"
    }
   ],
   "source": [
    "pyg_dataset[2]['edge_index'].shape"
   ]
  },
  {
   "cell_type": "code",
   "execution_count": 7,
   "id": "676833e0",
   "metadata": {},
   "outputs": [
    {
     "data": {
      "text/plain": [
       "Data(edge_index=[2, 92], x=[25, 3], y=[1])"
      ]
     },
     "execution_count": 7,
     "metadata": {},
     "output_type": "execute_result"
    }
   ],
   "source": [
    "pyg_dataset[2]"
   ]
  },
  {
   "cell_type": "code",
   "execution_count": 8,
   "id": "fa034a9a",
   "metadata": {},
   "outputs": [
    {
     "data": {
      "text/plain": [
       "{'edge_index': tensor([[ 0,  0,  0,  1,  1,  1,  2,  2,  2,  3,  3,  3,  4,  4,  4,  4,  5,  5,\n",
       "           5,  5,  6,  6,  6,  6,  7,  7,  7,  7,  7,  7,  8,  8,  8,  8,  9,  9,\n",
       "           9, 10, 10, 10, 10, 10, 11, 11, 11, 12, 12, 12, 12, 13, 13, 13, 14, 14,\n",
       "          14, 15, 15, 15, 15, 15, 15, 16, 16, 16, 17, 17, 17, 18, 18, 18, 19, 19,\n",
       "          19, 20, 20, 20, 21, 21, 21, 22, 22, 22, 22, 22, 23, 23, 23, 23, 24, 24,\n",
       "          24, 24],\n",
       "         [ 1, 19, 22,  0, 19, 22,  3, 22, 23,  2,  4, 23,  3,  5, 23, 24,  4,  6,\n",
       "           7, 24,  5,  7,  8, 24,  5,  6,  8,  9, 10, 24,  6,  7,  9, 10,  7,  8,\n",
       "          10,  7,  8,  9, 11, 21, 10, 20, 21, 13, 14, 15, 20, 12, 14, 15, 12, 13,\n",
       "          15, 12, 13, 14, 16, 17, 18, 15, 17, 18, 15, 16, 18, 15, 16, 17,  0,  1,\n",
       "          22, 11, 12, 21, 10, 11, 20,  0,  1,  2, 19, 23,  2,  3,  4, 22,  4,  5,\n",
       "           6,  7]]),\n",
       " 'x': tensor([[1., 0., 0.],\n",
       "         [1., 0., 0.],\n",
       "         [1., 0., 0.],\n",
       "         [1., 0., 0.],\n",
       "         [1., 0., 0.],\n",
       "         [1., 0., 0.],\n",
       "         [1., 0., 0.],\n",
       "         [1., 0., 0.],\n",
       "         [1., 0., 0.],\n",
       "         [1., 0., 0.],\n",
       "         [1., 0., 0.],\n",
       "         [1., 0., 0.],\n",
       "         [1., 0., 0.],\n",
       "         [1., 0., 0.],\n",
       "         [1., 0., 0.],\n",
       "         [1., 0., 0.],\n",
       "         [1., 0., 0.],\n",
       "         [1., 0., 0.],\n",
       "         [1., 0., 0.],\n",
       "         [0., 1., 0.],\n",
       "         [0., 1., 0.],\n",
       "         [0., 1., 0.],\n",
       "         [0., 1., 0.],\n",
       "         [0., 1., 0.],\n",
       "         [0., 1., 0.]]),\n",
       " 'y': tensor([5])}"
      ]
     },
     "execution_count": 8,
     "metadata": {},
     "output_type": "execute_result"
    }
   ],
   "source": [
    "pyg_dataset[2].to_dict()"
   ]
  },
  {
   "cell_type": "code",
   "execution_count": 9,
   "id": "0371de02",
   "metadata": {},
   "outputs": [
    {
     "name": "stdout",
     "output_type": "stream",
     "text": [
      "Graph with index 200 has 53 edges\n"
     ]
    }
   ],
   "source": [
    "def get_graph_num_edges(pyg_dataset, idx):\n",
    "    # TODO: Implement this function that takes a PyG dataset object,\n",
    "    # the index of the graph in dataset, and returns the number of \n",
    "    # edges in the graph (in integer). You should not count an edge \n",
    "    # twice if the graph is undirected. For example, in an undirected \n",
    "    # graph G, if two nodes v and u are connected by an edge, this edge\n",
    "    # should only be counted once.\n",
    "\n",
    "    num_edges = 0\n",
    "\n",
    "    ############# Your code here ############\n",
    "    ## Note:\n",
    "    ## 1. You can't return the data.num_edges directly\n",
    "    ## 2. We assume the graph is undirected\n",
    "    ## (~4 lines of code)\n",
    "    num_edges = int(pyg_dataset[idx]['edge_index'].shape[1] / 2)\n",
    "    #########################################\n",
    "\n",
    "    return num_edges\n",
    "\n",
    "idx = 200\n",
    "num_edges = get_graph_num_edges(pyg_dataset, idx)\n",
    "print('Graph with index {} has {} edges'.format(idx, num_edges))"
   ]
  },
  {
   "cell_type": "markdown",
   "id": "d655d22d",
   "metadata": {},
   "source": [
    "\n",
    "# 2 Open Graph Benchmark (OGB)\n",
    "\n",
    "The Open Graph Benchmark (OGB) is a collection of realistic, large-scale, and diverse benchmark datasets for machine learning on graphs. Its datasets are automatically downloaded, processed, and split using the OGB Data Loader. The model performance can also be evaluated by using the OGB Evaluator in a unified manner."
   ]
  },
  {
   "cell_type": "code",
   "execution_count": 10,
   "id": "f0c4bd6e",
   "metadata": {},
   "outputs": [
    {
     "name": "stdout",
     "output_type": "stream",
     "text": [
      "The ogbn-arxiv dataset has 1 graph\n",
      "Data(num_nodes=169343, x=[169343, 128], node_year=[169343, 1], y=[169343, 1], adj_t=[169343, 169343, nnz=1166243])\n"
     ]
    }
   ],
   "source": [
    "import torch_geometric.transforms as T\n",
    "from ogb.nodeproppred import PygNodePropPredDataset\n",
    "\n",
    "dataset_name = 'ogbn-arxiv'\n",
    "# Load the dataset and transform it to sparse tensor\n",
    "dataset = PygNodePropPredDataset(name=dataset_name,\n",
    "                                 transform=T.ToSparseTensor())\n",
    "print('The {} dataset has {} graph'.format(dataset_name, len(dataset)))\n",
    "\n",
    "# Extract the graph\n",
    "data = dataset[0]\n",
    "print(data)\n"
   ]
  },
  {
   "cell_type": "markdown",
   "id": "9703a990",
   "metadata": {},
   "source": [
    "## Question 4: What is the number of features in the ogbn-arxiv graph? (5 points)"
   ]
  },
  {
   "cell_type": "code",
   "execution_count": 11,
   "id": "29857faa",
   "metadata": {},
   "outputs": [
    {
     "name": "stdout",
     "output_type": "stream",
     "text": [
      "The graph has 128 features\n"
     ]
    }
   ],
   "source": [
    "def graph_num_features(data):\n",
    "    # TODO: Implement this function that takes a PyG data object,\n",
    "    # and returns the number of features in the graph (in integer).\n",
    "\n",
    "    num_features = 0\n",
    "\n",
    "    ############# Your code here ############\n",
    "    ## (~1 line of code)\n",
    "    num_features = data.num_features\n",
    "    #########################################\n",
    "\n",
    "    return num_features\n",
    "\n",
    "num_features = graph_num_features(data)\n",
    "print('The graph has {} features'.format(num_features))"
   ]
  },
  {
   "cell_type": "code",
   "execution_count": 12,
   "id": "47f2ef60",
   "metadata": {},
   "outputs": [
    {
     "data": {
      "text/plain": [
       "{'num_nodes': 169343,\n",
       " 'x': tensor([[-0.0579, -0.0525, -0.0726,  ...,  0.1734, -0.1728, -0.1401],\n",
       "         [-0.1245, -0.0707, -0.3252,  ...,  0.0685, -0.3721, -0.3010],\n",
       "         [-0.0802, -0.0233, -0.1838,  ...,  0.1099,  0.1176, -0.1399],\n",
       "         ...,\n",
       "         [-0.2205, -0.0366, -0.4022,  ...,  0.1134, -0.1614, -0.1452],\n",
       "         [-0.1382,  0.0409, -0.2518,  ..., -0.0893, -0.0413, -0.3761],\n",
       "         [-0.0299,  0.2684, -0.1611,  ...,  0.1208,  0.0776, -0.0910]]),\n",
       " 'node_year': tensor([[2013],\n",
       "         [2015],\n",
       "         [2014],\n",
       "         ...,\n",
       "         [2020],\n",
       "         [2020],\n",
       "         [2020]]),\n",
       " 'y': tensor([[ 4],\n",
       "         [ 5],\n",
       "         [28],\n",
       "         ...,\n",
       "         [10],\n",
       "         [ 4],\n",
       "         [ 1]]),\n",
       " 'adj_t': SparseTensor(row=tensor([     0,      0,      0,  ..., 169341, 169341, 169341]),\n",
       "              col=tensor([   411,    640,   1162,  ...,  30351,  35711, 103121]),\n",
       "              size=(169343, 169343), nnz=1166243, density=0.00%)}"
      ]
     },
     "execution_count": 12,
     "metadata": {},
     "output_type": "execute_result"
    }
   ],
   "source": [
    "data.to_dict()"
   ]
  },
  {
   "cell_type": "markdown",
   "id": "d1955109",
   "metadata": {},
   "source": [
    "# 3 GNN: Node Property Prediction\n",
    "\n",
    "In this section we will build our first graph neural network by using PyTorch Geometric and apply it on node property prediction (node classification).\n",
    "\n",
    "We will build the graph neural network by using GCN operator ([Kipf et al. (2017)](https://arxiv.org/pdf/1609.02907.pdf)).\n",
    "\n",
    "You should use the PyG built-in `GCNConv` layer directly. "
   ]
  },
  {
   "cell_type": "code",
   "execution_count": 13,
   "id": "bb58915b",
   "metadata": {},
   "outputs": [
    {
     "name": "stdout",
     "output_type": "stream",
     "text": [
      "1.11.0\n"
     ]
    }
   ],
   "source": [
    "import torch\n",
    "import torch.nn.functional as F\n",
    "print(torch.__version__)\n",
    "\n",
    "# The PyG built-in GCNConv\n",
    "from torch_geometric.nn import GCNConv\n",
    "\n",
    "import torch_geometric.transforms as T\n",
    "from ogb.nodeproppred import PygNodePropPredDataset, Evaluator"
   ]
  },
  {
   "cell_type": "code",
   "execution_count": 14,
   "id": "85fb4b71",
   "metadata": {},
   "outputs": [
    {
     "name": "stdout",
     "output_type": "stream",
     "text": [
      "Device: cuda\n"
     ]
    }
   ],
   "source": [
    "dataset_name = 'ogbn-arxiv'\n",
    "dataset = PygNodePropPredDataset(name=dataset_name,\n",
    "                                 transform=T.ToSparseTensor())\n",
    "data = dataset[0]\n",
    "\n",
    "# Make the adjacency matrix to symmetric\n",
    "data.adj_t = data.adj_t.to_symmetric()\n",
    "\n",
    "device = 'cuda' if torch.cuda.is_available() else 'cpu'\n",
    "\n",
    "# If you use GPU, the device should be cuda\n",
    "print('Device: {}'.format(device))\n",
    "\n",
    "data = data.to(device)\n",
    "split_idx = dataset.get_idx_split()\n",
    "train_idx = split_idx['train'].to(device)"
   ]
  },
  {
   "cell_type": "markdown",
   "id": "876fefe6",
   "metadata": {},
   "source": [
    "## GCN Model\n",
    "\n",
    "Now we will implement our GCN model!\n",
    "\n",
    "Please follow the figure below to implement your `forward` function.\n",
    "\n",
    "\n",
    "![test](https://drive.google.com/uc?id=128AuYAXNXGg7PIhJJ7e420DoPWKb-RtL)"
   ]
  },
  {
   "cell_type": "code",
   "execution_count": 15,
   "id": "b2691834",
   "metadata": {},
   "outputs": [],
   "source": [
    "#         gcn_convs = [GCNConv(in_channels = input_dim, out_channels = num_features)]\n",
    "#         for i in range(num_layers-2):\n",
    "#             gcn_convs.append(GCNConv(in_channels=num_features, out_channels=num_features))\n",
    "#         gcn_convs.append(GCNConv(in_channels = num_features, out_channels = output_dim))\n",
    "#         self.bns = nn.ModuleList([nn.BatchNorm1d(num_features) for i in range(num_layers-1)])\n"
   ]
  },
  {
   "cell_type": "code",
   "execution_count": 16,
   "id": "3cc391a0",
   "metadata": {},
   "outputs": [],
   "source": [
    "import torch.nn as nn\n",
    "\n",
    "class GCN(torch.nn.Module):\n",
    "    def __init__(self, input_dim, hidden_dim, output_dim, num_layers,\n",
    "                 dropout, return_embeds=False):\n",
    "        # TODO: Implement this function that initializes self.convs, \n",
    "        # self.bns, and self.softmax.\n",
    "\n",
    "        super(GCN, self).__init__()\n",
    "\n",
    "\n",
    "        ############# Your code here ############\n",
    "        ## Note:\n",
    "        ## 1. You should use torch.nn.ModuleList for self.convs and self.bns\n",
    "        ## 2. self.convs has num_layers GCNConv layers\n",
    "        ## 3. self.bns has num_layers - 1 BatchNorm1d layers\n",
    "        ## 4. You should use torch.nn.LogSoftmax for self.softmax\n",
    "        ## 5. The parameters you can set for GCNConv include 'in_channels' and \n",
    "        ## 'out_channels'. More information please refer to the documentation:\n",
    "        ## https://pytorch-geometric.readthedocs.io/en/latest/modules/nn.html#torch_geometric.nn.conv.GCNConv\n",
    "        ## 6. The only parameter you need to set for BatchNorm1d is 'num_features'\n",
    "        ## More information please refer to the documentation: \n",
    "        ## https://pytorch.org/docs/stable/generated/torch.nn.BatchNorm1d.html\n",
    "        ## (~10 lines of code)\n",
    "        \n",
    "        self.num_layers = num_layers\n",
    "        \n",
    "        # A list of GCNConv layers\n",
    "        gcn_convs = [GCNConv(in_channels = input_dim, out_channels = num_features)]\n",
    "        for i in range(num_layers-2):\n",
    "            gcn_convs.append(GCNConv(in_channels = num_features // (2**i),\n",
    "                                     out_channels=num_features // (2**(i+1))))\n",
    "        gcn_convs.append(GCNConv(in_channels = num_features // (2**(num_layers-2)), out_channels = output_dim))\n",
    "        self.convs = nn.ModuleList(gcn_convs)\n",
    "\n",
    "        # A list of 1D batch normalization layers\n",
    "        self.bns = nn.ModuleList([nn.BatchNorm1d(num_features // (2 ** i)) for i in range(num_layers-1)])\n",
    "\n",
    "        # The log softmax layer\n",
    "        self.softmax = torch.nn.LogSoftmax(dim=1)\n",
    "\n",
    "        #########################################\n",
    "\n",
    "        # Probability of an element to be zeroed\n",
    "        self.dropout = dropout\n",
    "\n",
    "        # Skip classification layer and return node embeddings\n",
    "        self.return_embeds = return_embeds\n",
    "\n",
    "    def reset_parameters(self):\n",
    "        for conv in self.convs:\n",
    "            conv.reset_parameters()\n",
    "        for bn in self.bns:\n",
    "            bn.reset_parameters()\n",
    "\n",
    "    def forward(self, x, adj_t):\n",
    "        # TODO: Implement this function that takes the feature tensor x,\n",
    "        # edge_index tensor adj_t and returns the output tensor as\n",
    "        # shown in the figure.\n",
    "\n",
    "        ############# Your code here ############\n",
    "        ## Note:\n",
    "        ## 1. Construct the network as showing in the figure\n",
    "        ## 2. torch.nn.functional.relu and torch.nn.functional.dropout are useful\n",
    "        ## More information please refer to the documentation:\n",
    "        ## https://pytorch.org/docs/stable/nn.functional.html\n",
    "        ## 3. Don't forget to set F.dropout training to self.training\n",
    "        ## 4. If return_embeds is True, then skip the last softmax layer\n",
    "        ## (~7 lines of code)\n",
    "        \n",
    "        for i in range(self.num_layers-1):\n",
    "            x = self.convs[i](x, adj_t)\n",
    "            x = self.bns[i](x)\n",
    "            x = F.relu(x)\n",
    "            x = F.dropout(x, p=self.dropout, training=self.training)\n",
    "        x = self.convs[self.num_layers-1](x, adj_t)\n",
    "        if self.return_embeds:\n",
    "            return x \n",
    "        return self.softmax(x)\n",
    "    \n",
    "        #########################################\n"
   ]
  },
  {
   "cell_type": "code",
   "execution_count": 17,
   "id": "cb386f86",
   "metadata": {},
   "outputs": [],
   "source": [
    "def train(model, data, train_idx, optimizer, loss_fn):\n",
    "    # TODO: Implement this function that trains the model by \n",
    "    # using the given optimizer and loss_fn.\n",
    "    model.train()\n",
    "    loss = 0\n",
    "\n",
    "    ############# Your code here ############\n",
    "    ## Note:\n",
    "    ## 1. Zero grad the optimizer\n",
    "    ## 2. Feed the data into the model\n",
    "    ## 3. Slicing the model output and label by train_idx\n",
    "    ## 4. Feed the sliced output and label to loss_fn\n",
    "    ## (~4 lines of code)\n",
    "    \n",
    "    optimizer.zero_grad()\n",
    "    out = model.forward(data.x, data.adj_t)\n",
    "    loss = F.nll_loss(out[split_idx['train']], data.y[split_idx['train']].squeeze())\n",
    "    \n",
    "    #########################################\n",
    "\n",
    "    loss.backward()\n",
    "    optimizer.step()\n",
    "\n",
    "    return loss.item()"
   ]
  },
  {
   "cell_type": "code",
   "execution_count": 18,
   "id": "d8fc1428",
   "metadata": {},
   "outputs": [],
   "source": [
    "# Test function here\n",
    "@torch.no_grad()\n",
    "def test(model, data, split_idx, evaluator):\n",
    "    # TODO: Implement this function that tests the model by \n",
    "    # using the given split_idx and evaluator.\n",
    "    model.eval()\n",
    "\n",
    "    # The output of model on all data\n",
    "    out = None\n",
    "\n",
    "    ############# Your code here ############\n",
    "    ## (~1 line of code)\n",
    "    ## Note:\n",
    "    ## 1. No index slicing here\n",
    "    out = model.forward(data.x, data.adj_t)\n",
    "    #########################################\n",
    "\n",
    "    y_pred = out.argmax(dim=-1, keepdim=True)\n",
    "\n",
    "    train_acc = evaluator.eval({\n",
    "        'y_true': data.y[split_idx['train']],\n",
    "        'y_pred': y_pred[split_idx['train']],\n",
    "    })['acc']\n",
    "    valid_acc = evaluator.eval({\n",
    "        'y_true': data.y[split_idx['valid']],\n",
    "        'y_pred': y_pred[split_idx['valid']],\n",
    "    })['acc']\n",
    "    test_acc = evaluator.eval({\n",
    "        'y_true': data.y[split_idx['test']],\n",
    "        'y_pred': y_pred[split_idx['test']],\n",
    "    })['acc']\n",
    "\n",
    "    return train_acc, valid_acc, test_acc"
   ]
  },
  {
   "cell_type": "code",
   "execution_count": 19,
   "id": "66b7adc5",
   "metadata": {},
   "outputs": [],
   "source": [
    "# Please do not change the args\n",
    "args = {\n",
    "    'device': device,\n",
    "    'num_layers': 3,\n",
    "    'hidden_dim': 256,\n",
    "    'dropout': 0.5,\n",
    "    'lr': 0.01,\n",
    "    'epochs': 100,\n",
    "}\n",
    "\n",
    "model = GCN(data.num_features, args['hidden_dim'],\n",
    "            dataset.num_classes, args['num_layers'],\n",
    "            args['dropout']).to(device)\n",
    "evaluator = Evaluator(name='ogbn-arxiv')"
   ]
  },
  {
   "cell_type": "code",
   "execution_count": 20,
   "id": "30b03fff",
   "metadata": {
    "scrolled": true
   },
   "outputs": [
    {
     "name": "stdout",
     "output_type": "stream",
     "text": [
      "Epoch: 01, Loss: 4.2124, Train: 16.52%, Valid: 24.91% Test: 23.01%\n",
      "Epoch: 02, Loss: 3.1466, Train: 25.01%, Valid: 28.83% Test: 25.92%\n",
      "Epoch: 03, Loss: 2.6837, Train: 29.08%, Valid: 31.97% Test: 29.89%\n",
      "Epoch: 04, Loss: 2.4358, Train: 41.06%, Valid: 45.84% Test: 44.34%\n",
      "Epoch: 05, Loss: 2.2674, Train: 43.22%, Valid: 43.98% Test: 41.88%\n",
      "Epoch: 06, Loss: 2.1560, Train: 41.83%, Valid: 41.80% Test: 38.93%\n",
      "Epoch: 07, Loss: 2.0690, Train: 41.39%, Valid: 41.90% Test: 39.07%\n",
      "Epoch: 08, Loss: 1.9896, Train: 41.28%, Valid: 42.28% Test: 39.80%\n",
      "Epoch: 09, Loss: 1.9209, Train: 41.49%, Valid: 43.37% Test: 41.85%\n",
      "Epoch: 10, Loss: 1.8672, Train: 42.19%, Valid: 44.81% Test: 44.97%\n",
      "Epoch: 11, Loss: 1.8093, Train: 43.79%, Valid: 47.07% Test: 48.09%\n",
      "Epoch: 12, Loss: 1.7668, Train: 45.86%, Valid: 49.42% Test: 50.68%\n",
      "Epoch: 13, Loss: 1.7240, Train: 48.45%, Valid: 51.97% Test: 52.77%\n",
      "Epoch: 14, Loss: 1.6790, Train: 51.41%, Valid: 54.49% Test: 54.74%\n",
      "Epoch: 15, Loss: 1.6411, Train: 54.55%, Valid: 56.61% Test: 56.56%\n",
      "Epoch: 16, Loss: 1.6087, Train: 56.76%, Valid: 58.42% Test: 58.38%\n",
      "Epoch: 17, Loss: 1.5755, Train: 57.94%, Valid: 59.27% Test: 59.81%\n",
      "Epoch: 18, Loss: 1.5482, Train: 58.33%, Valid: 59.55% Test: 60.15%\n",
      "Epoch: 19, Loss: 1.5160, Train: 58.40%, Valid: 59.50% Test: 60.25%\n",
      "Epoch: 20, Loss: 1.4934, Train: 58.44%, Valid: 59.67% Test: 60.34%\n",
      "Epoch: 21, Loss: 1.4709, Train: 58.54%, Valid: 59.85% Test: 60.59%\n",
      "Epoch: 22, Loss: 1.4469, Train: 58.87%, Valid: 60.29% Test: 61.08%\n",
      "Epoch: 23, Loss: 1.4282, Train: 59.53%, Valid: 60.88% Test: 61.66%\n",
      "Epoch: 24, Loss: 1.4101, Train: 60.53%, Valid: 61.73% Test: 62.29%\n",
      "Epoch: 25, Loss: 1.3907, Train: 61.63%, Valid: 62.52% Test: 62.96%\n",
      "Epoch: 26, Loss: 1.3740, Train: 62.72%, Valid: 63.19% Test: 63.59%\n",
      "Epoch: 27, Loss: 1.3558, Train: 63.40%, Valid: 63.83% Test: 64.22%\n",
      "Epoch: 28, Loss: 1.3486, Train: 63.96%, Valid: 64.42% Test: 64.79%\n",
      "Epoch: 29, Loss: 1.3332, Train: 64.27%, Valid: 64.78% Test: 65.14%\n",
      "Epoch: 30, Loss: 1.3198, Train: 64.57%, Valid: 65.11% Test: 65.33%\n",
      "Epoch: 31, Loss: 1.3065, Train: 64.90%, Valid: 65.36% Test: 65.50%\n",
      "Epoch: 32, Loss: 1.2983, Train: 65.34%, Valid: 65.80% Test: 65.77%\n",
      "Epoch: 33, Loss: 1.2882, Train: 65.68%, Valid: 65.81% Test: 65.95%\n",
      "Epoch: 34, Loss: 1.2843, Train: 65.93%, Valid: 66.17% Test: 66.10%\n",
      "Epoch: 35, Loss: 1.2649, Train: 66.06%, Valid: 66.48% Test: 66.20%\n",
      "Epoch: 36, Loss: 1.2645, Train: 66.16%, Valid: 66.68% Test: 66.30%\n",
      "Epoch: 37, Loss: 1.2539, Train: 66.38%, Valid: 66.95% Test: 66.49%\n",
      "Epoch: 38, Loss: 1.2404, Train: 66.68%, Valid: 67.03% Test: 66.66%\n",
      "Epoch: 39, Loss: 1.2439, Train: 67.08%, Valid: 67.17% Test: 66.80%\n",
      "Epoch: 40, Loss: 1.2334, Train: 67.38%, Valid: 67.52% Test: 67.04%\n",
      "Epoch: 41, Loss: 1.2262, Train: 67.76%, Valid: 67.88% Test: 67.30%\n",
      "Epoch: 42, Loss: 1.2178, Train: 68.05%, Valid: 68.08% Test: 67.49%\n",
      "Epoch: 43, Loss: 1.2127, Train: 68.27%, Valid: 68.25% Test: 67.74%\n",
      "Epoch: 44, Loss: 1.2058, Train: 68.43%, Valid: 68.43% Test: 67.85%\n",
      "Epoch: 45, Loss: 1.1995, Train: 68.57%, Valid: 68.55% Test: 67.87%\n",
      "Epoch: 46, Loss: 1.1908, Train: 68.71%, Valid: 68.66% Test: 67.79%\n",
      "Epoch: 47, Loss: 1.1897, Train: 68.88%, Valid: 68.75% Test: 67.84%\n",
      "Epoch: 48, Loss: 1.1863, Train: 68.92%, Valid: 68.83% Test: 68.03%\n",
      "Epoch: 49, Loss: 1.1759, Train: 68.84%, Valid: 68.89% Test: 68.27%\n",
      "Epoch: 50, Loss: 1.1752, Train: 68.89%, Valid: 68.89% Test: 68.16%\n",
      "Epoch: 51, Loss: 1.1740, Train: 69.02%, Valid: 68.83% Test: 67.99%\n",
      "Epoch: 52, Loss: 1.1677, Train: 69.15%, Valid: 68.72% Test: 67.77%\n",
      "Epoch: 53, Loss: 1.1620, Train: 69.23%, Valid: 68.77% Test: 67.85%\n",
      "Epoch: 54, Loss: 1.1578, Train: 69.24%, Valid: 68.82% Test: 68.13%\n",
      "Epoch: 55, Loss: 1.1539, Train: 69.31%, Valid: 68.95% Test: 68.51%\n",
      "Epoch: 56, Loss: 1.1491, Train: 69.44%, Valid: 69.22% Test: 68.77%\n",
      "Epoch: 57, Loss: 1.1475, Train: 69.67%, Valid: 69.47% Test: 68.53%\n",
      "Epoch: 58, Loss: 1.1462, Train: 69.87%, Valid: 69.27% Test: 68.18%\n",
      "Epoch: 59, Loss: 1.1411, Train: 70.00%, Valid: 69.28% Test: 67.90%\n",
      "Epoch: 60, Loss: 1.1336, Train: 70.15%, Valid: 69.36% Test: 68.04%\n",
      "Epoch: 61, Loss: 1.1372, Train: 70.22%, Valid: 69.55% Test: 68.38%\n",
      "Epoch: 62, Loss: 1.1295, Train: 70.18%, Valid: 69.75% Test: 68.88%\n",
      "Epoch: 63, Loss: 1.1321, Train: 70.16%, Valid: 69.81% Test: 69.12%\n",
      "Epoch: 64, Loss: 1.1296, Train: 70.19%, Valid: 69.92% Test: 68.92%\n",
      "Epoch: 65, Loss: 1.1264, Train: 70.29%, Valid: 69.73% Test: 68.57%\n",
      "Epoch: 66, Loss: 1.1195, Train: 70.32%, Valid: 69.73% Test: 68.27%\n",
      "Epoch: 67, Loss: 1.1150, Train: 70.44%, Valid: 69.89% Test: 68.32%\n",
      "Epoch: 68, Loss: 1.1139, Train: 70.60%, Valid: 70.28% Test: 68.96%\n",
      "Epoch: 69, Loss: 1.1154, Train: 70.65%, Valid: 70.49% Test: 69.43%\n",
      "Epoch: 70, Loss: 1.1123, Train: 70.70%, Valid: 70.34% Test: 69.63%\n",
      "Epoch: 71, Loss: 1.1055, Train: 70.59%, Valid: 70.17% Test: 69.42%\n",
      "Epoch: 72, Loss: 1.1091, Train: 70.61%, Valid: 69.91% Test: 68.66%\n",
      "Epoch: 73, Loss: 1.1076, Train: 70.74%, Valid: 69.66% Test: 68.42%\n",
      "Epoch: 74, Loss: 1.1037, Train: 70.80%, Valid: 69.77% Test: 68.39%\n",
      "Epoch: 75, Loss: 1.1011, Train: 70.86%, Valid: 70.19% Test: 69.16%\n",
      "Epoch: 76, Loss: 1.0949, Train: 70.69%, Valid: 70.08% Test: 69.79%\n",
      "Epoch: 77, Loss: 1.0962, Train: 70.62%, Valid: 70.07% Test: 69.81%\n",
      "Epoch: 78, Loss: 1.0959, Train: 70.80%, Valid: 70.15% Test: 69.68%\n",
      "Epoch: 79, Loss: 1.0915, Train: 70.99%, Valid: 70.19% Test: 68.94%\n",
      "Epoch: 80, Loss: 1.0922, Train: 70.94%, Valid: 69.83% Test: 67.87%\n",
      "Epoch: 81, Loss: 1.0865, Train: 71.04%, Valid: 69.97% Test: 68.09%\n",
      "Epoch: 82, Loss: 1.0849, Train: 71.21%, Valid: 70.26% Test: 68.90%\n",
      "Epoch: 83, Loss: 1.0889, Train: 71.10%, Valid: 70.45% Test: 69.72%\n",
      "Epoch: 84, Loss: 1.0819, Train: 71.02%, Valid: 70.43% Test: 69.93%\n",
      "Epoch: 85, Loss: 1.0787, Train: 71.17%, Valid: 70.48% Test: 69.92%\n",
      "Epoch: 86, Loss: 1.0757, Train: 71.36%, Valid: 70.50% Test: 69.52%\n",
      "Epoch: 87, Loss: 1.0782, Train: 71.31%, Valid: 70.39% Test: 69.14%\n",
      "Epoch: 88, Loss: 1.0762, Train: 71.31%, Valid: 70.36% Test: 69.04%\n",
      "Epoch: 89, Loss: 1.0741, Train: 71.38%, Valid: 70.62% Test: 69.75%\n",
      "Epoch: 90, Loss: 1.0714, Train: 71.44%, Valid: 70.63% Test: 69.89%\n",
      "Epoch: 91, Loss: 1.0765, Train: 71.48%, Valid: 70.44% Test: 69.12%\n",
      "Epoch: 92, Loss: 1.0670, Train: 71.51%, Valid: 70.48% Test: 68.88%\n",
      "Epoch: 93, Loss: 1.0668, Train: 71.64%, Valid: 70.84% Test: 69.49%\n",
      "Epoch: 94, Loss: 1.0643, Train: 71.71%, Valid: 70.94% Test: 69.97%\n",
      "Epoch: 95, Loss: 1.0634, Train: 71.74%, Valid: 71.05% Test: 70.33%\n",
      "Epoch: 96, Loss: 1.0675, Train: 71.80%, Valid: 71.08% Test: 70.21%\n",
      "Epoch: 97, Loss: 1.0614, Train: 71.75%, Valid: 70.85% Test: 69.70%\n",
      "Epoch: 98, Loss: 1.0623, Train: 71.56%, Valid: 70.45% Test: 69.18%\n",
      "Epoch: 99, Loss: 1.0632, Train: 71.54%, Valid: 70.40% Test: 69.25%\n",
      "Epoch: 100, Loss: 1.0621, Train: 71.69%, Valid: 71.01% Test: 70.13%\n"
     ]
    }
   ],
   "source": [
    "import copy\n",
    "\n",
    "# reset the parameters to initial random value\n",
    "model.reset_parameters()\n",
    "\n",
    "optimizer = torch.optim.Adam(model.parameters(), lr=args['lr'])\n",
    "loss_fn = F.nll_loss\n",
    "\n",
    "best_model = None\n",
    "best_valid_acc = 0\n",
    "\n",
    "for epoch in range(1, 1 + args[\"epochs\"]):\n",
    "    loss = train(model, data, train_idx, optimizer, loss_fn)\n",
    "    result = test(model, data, split_idx, evaluator)\n",
    "    train_acc, valid_acc, test_acc = result\n",
    "    if valid_acc > best_valid_acc:\n",
    "        best_valid_acc = valid_acc\n",
    "        best_model = copy.deepcopy(model)\n",
    "    print(f'Epoch: {epoch:02d}, '\n",
    "            f'Loss: {loss:.4f}, '\n",
    "            f'Train: {100 * train_acc:.2f}%, '\n",
    "            f'Valid: {100 * valid_acc:.2f}% '\n",
    "            f'Test: {100 * test_acc:.2f}%')"
   ]
  },
  {
   "cell_type": "markdown",
   "id": "66fe35e6",
   "metadata": {},
   "source": [
    "## Question 5: What are your `best_model` validation and test accuracy? Please report them on Gradescope. For example, for an accuracy such as 50.01%, just report 50.01 and please don't include the percent sign. (20 points)"
   ]
  },
  {
   "cell_type": "code",
   "execution_count": 21,
   "id": "f5efce86",
   "metadata": {},
   "outputs": [
    {
     "data": {
      "text/plain": [
       "0.7108292224571294"
      ]
     },
     "execution_count": 21,
     "metadata": {},
     "output_type": "execute_result"
    }
   ],
   "source": [
    "best_valid_acc"
   ]
  },
  {
   "cell_type": "markdown",
   "id": "f2286132",
   "metadata": {},
   "source": [
    "# 4 GNN: Graph Property Prediction\n",
    "\n",
    "In this section we will create a graph neural network for graph property prediction (graph classification)\n"
   ]
  },
  {
   "cell_type": "code",
   "execution_count": 22,
   "id": "47170317",
   "metadata": {},
   "outputs": [
    {
     "name": "stdout",
     "output_type": "stream",
     "text": [
      "Device: cuda\n",
      "Task type: binary classification\n"
     ]
    },
    {
     "name": "stderr",
     "output_type": "stream",
     "text": [
      "/home/nys/anaconda3/envs/TIL/lib/python3.9/site-packages/torch_geometric/deprecation.py:12: UserWarning: 'data.DataLoader' is deprecated, use 'loader.DataLoader' instead\n",
      "  warnings.warn(out)\n"
     ]
    },
    {
     "data": {
      "text/plain": [
       "{'device': 'cuda',\n",
       " 'num_layers': 5,\n",
       " 'hidden_dim': 256,\n",
       " 'dropout': 0.5,\n",
       " 'lr': 0.001,\n",
       " 'epochs': 30}"
      ]
     },
     "execution_count": 22,
     "metadata": {},
     "output_type": "execute_result"
    }
   ],
   "source": [
    "from ogb.graphproppred import PygGraphPropPredDataset, Evaluator\n",
    "from torch_geometric.data import DataLoader\n",
    "from tqdm import tqdm\n",
    "\n",
    "# Load the dataset \n",
    "dataset = PygGraphPropPredDataset(name='ogbg-molhiv')\n",
    "\n",
    "device = 'cuda' if torch.cuda.is_available() else 'cpu'\n",
    "print('Device: {}'.format(device))\n",
    "\n",
    "split_idx = dataset.get_idx_split()\n",
    "\n",
    "# Check task type\n",
    "print('Task type: {}'.format(dataset.task_type))\n",
    "\n",
    "# Load the data sets into dataloader\n",
    "# We will train the graph classification task on a batch of 32 graphs\n",
    "# Shuffle the order of graphs for training set\n",
    "train_loader = DataLoader(dataset[split_idx[\"train\"]], batch_size=32, shuffle=True, num_workers=0)\n",
    "valid_loader = DataLoader(dataset[split_idx[\"valid\"]], batch_size=32, shuffle=False, num_workers=0)\n",
    "test_loader = DataLoader(dataset[split_idx[\"test\"]], batch_size=32, shuffle=False, num_workers=0)\n",
    "\n",
    "\n",
    "# Please do not change the args\n",
    "args = {\n",
    "    'device': device,\n",
    "    'num_layers': 5,\n",
    "    'hidden_dim': 256,\n",
    "    'dropout': 0.5,\n",
    "    'lr': 0.001,\n",
    "    'epochs': 30,\n",
    "}\n",
    "args"
   ]
  },
  {
   "cell_type": "code",
   "execution_count": 23,
   "id": "4ecda5b3",
   "metadata": {},
   "outputs": [],
   "source": [
    "from ogb.graphproppred.mol_encoder import AtomEncoder\n",
    "from torch_geometric.nn import global_add_pool, global_mean_pool\n",
    "\n",
    "### GCN to predict graph property\n",
    "class GCN_Graph(torch.nn.Module):\n",
    "    def __init__(self, hidden_dim, output_dim, num_layers, dropout):\n",
    "        super(GCN_Graph, self).__init__()\n",
    "\n",
    "        # Load encoders for Atoms in molecule graphs\n",
    "        self.node_encoder = AtomEncoder(hidden_dim)\n",
    "\n",
    "        # Node embedding model\n",
    "        # Note that the input_dim and output_dim are set to hidden_dim\n",
    "        self.gnn_node = GCN(hidden_dim, hidden_dim,\n",
    "            hidden_dim, num_layers, dropout, return_embeds=True)\n",
    "\n",
    "        self.pool = None\n",
    "\n",
    "        ############# Your code here ############\n",
    "        ## Note:\n",
    "        ## 1. Initialize the self.pool to global mean pooling layer\n",
    "        ## More information please refer to the documentation:\n",
    "        ## https://pytorch-geometric.readthedocs.io/en/latest/modules/nn.html#global-pooling-layers\n",
    "        ## (~1 line of code)\n",
    "        \n",
    "        self.pool = global_mean_pool\n",
    "\n",
    "        #########################################\n",
    "\n",
    "        # Output layer\n",
    "        self.linear = torch.nn.Linear(hidden_dim, output_dim)\n",
    "\n",
    "\n",
    "    def reset_parameters(self):\n",
    "        self.gnn_node.reset_parameters()\n",
    "        self.linear.reset_parameters()\n",
    "\n",
    "    def forward(self, batched_data):\n",
    "        # TODO: Implement this function that takes the input tensor batched_data,\n",
    "        # returns a batched output tensor for each graph.\n",
    "        x, edge_index, batch = batched_data.x, batched_data.edge_index, batched_data.batch\n",
    "        embed = self.node_encoder(x)\n",
    "\n",
    "        out = None\n",
    "\n",
    "        ############# Your code here ############\n",
    "        ## Note:\n",
    "        ## 1. Construct node embeddings using existing GCN model\n",
    "        ## 2. Use global pooling layer to construct features for the whole graph\n",
    "        ## More information please refer to the documentation:\n",
    "        ## https://pytorch-geometric.readthedocs.io/en/latest/modules/nn.html#global-pooling-layers\n",
    "        ## 3. Use a linear layer to predict the graph property \n",
    "        ## (~3 lines of code)\n",
    "        \n",
    "        x = self.gnn_node(embed, edge_index)\n",
    "        x = self.pool(x, batch)\n",
    "        out = self.linear(x)\n",
    "\n",
    "        #########################################\n",
    "\n",
    "        return out"
   ]
  },
  {
   "cell_type": "code",
   "execution_count": 24,
   "id": "6aa7140a",
   "metadata": {},
   "outputs": [],
   "source": [
    "def train(model, device, data_loader, optimizer, loss_fn):\n",
    "    # TODO: Implement this function that trains the model by \n",
    "    # using the given optimizer and loss_fn.\n",
    "    model.train()\n",
    "    loss = 0\n",
    "\n",
    "    for step, batch in enumerate(tqdm(data_loader, desc=\"Iteration\")):\n",
    "        batch = batch.to(device)\n",
    "\n",
    "        if batch.x.shape[0] == 1 or batch.batch[-1] == 0:\n",
    "            pass\n",
    "        else:\n",
    "            ## ignore nan targets (unlabeled) when computing training loss.\n",
    "            is_labeled = batch.y == batch.y\n",
    "\n",
    "            ############# Your code here ############\n",
    "            ## Note:\n",
    "            ## 1. Zero grad the optimizer\n",
    "            ## 2. Feed the data into the model\n",
    "            ## 3. Use `is_labeled` mask to filter output and labels\n",
    "            ## 4. You might change the type of label\n",
    "            ## 5. Feed the output and label to loss_fn\n",
    "            ## (~3 lines of code)\n",
    "            \n",
    "            optimizer.zero_grad()\n",
    "            out = model.forward(batch)\n",
    "            loss = loss_fn(out[is_labeled], batch.y[is_labeled].float())\n",
    "            \n",
    "            #########################################\n",
    "\n",
    "            loss.backward()\n",
    "            optimizer.step()\n",
    "\n",
    "    return loss.item()\n",
    "\n",
    "# The evaluation function\n",
    "def eval(model, device, loader, evaluator):\n",
    "    model.eval()\n",
    "    y_true = []\n",
    "    y_pred = []\n",
    "\n",
    "    for step, batch in enumerate(tqdm(loader, desc=\"Iteration\")):\n",
    "        batch = batch.to(device)\n",
    "\n",
    "        if batch.x.shape[0] == 1:\n",
    "            pass\n",
    "        else:\n",
    "            with torch.no_grad():\n",
    "                pred = model(batch)\n",
    "\n",
    "            y_true.append(batch.y.view(pred.shape).detach().cpu())\n",
    "            y_pred.append(pred.detach().cpu())\n",
    "\n",
    "    y_true = torch.cat(y_true, dim = 0).numpy()\n",
    "    y_pred = torch.cat(y_pred, dim = 0).numpy()\n",
    "\n",
    "    input_dict = {\"y_true\": y_true, \"y_pred\": y_pred}\n",
    "\n",
    "    return evaluator.eval(input_dict)"
   ]
  },
  {
   "cell_type": "code",
   "execution_count": 25,
   "id": "566bc9ac",
   "metadata": {},
   "outputs": [],
   "source": [
    "model = GCN_Graph(args['hidden_dim'],\n",
    "            dataset.num_tasks, args['num_layers'],\n",
    "            args['dropout']).to(device)\n",
    "evaluator = Evaluator(name='ogbg-molhiv')"
   ]
  },
  {
   "cell_type": "code",
   "execution_count": 26,
   "id": "448200e3",
   "metadata": {
    "scrolled": false
   },
   "outputs": [
    {
     "name": "stdout",
     "output_type": "stream",
     "text": [
      "Training...\n"
     ]
    },
    {
     "name": "stderr",
     "output_type": "stream",
     "text": [
      "Iteration: 100%|███████████████████████████| 1029/1029 [00:07<00:00, 142.71it/s]\n"
     ]
    },
    {
     "name": "stdout",
     "output_type": "stream",
     "text": [
      "Evaluating...\n"
     ]
    },
    {
     "name": "stderr",
     "output_type": "stream",
     "text": [
      "Iteration: 100%|███████████████████████████| 1029/1029 [00:03<00:00, 303.50it/s]\n",
      "Iteration: 100%|█████████████████████████████| 129/129 [00:00<00:00, 250.75it/s]\n",
      "Iteration: 100%|█████████████████████████████| 129/129 [00:00<00:00, 210.55it/s]\n"
     ]
    },
    {
     "name": "stdout",
     "output_type": "stream",
     "text": [
      "Epoch: 01, Loss: 0.0377, Train: 71.41%, Valid: 74.75% Test: 66.73%\n",
      "Training...\n"
     ]
    },
    {
     "name": "stderr",
     "output_type": "stream",
     "text": [
      "Iteration: 100%|███████████████████████████| 1029/1029 [00:06<00:00, 162.57it/s]\n"
     ]
    },
    {
     "name": "stdout",
     "output_type": "stream",
     "text": [
      "Evaluating...\n"
     ]
    },
    {
     "name": "stderr",
     "output_type": "stream",
     "text": [
      "Iteration: 100%|███████████████████████████| 1029/1029 [00:03<00:00, 305.07it/s]\n",
      "Iteration: 100%|█████████████████████████████| 129/129 [00:00<00:00, 289.53it/s]\n",
      "Iteration: 100%|█████████████████████████████| 129/129 [00:00<00:00, 290.64it/s]\n"
     ]
    },
    {
     "name": "stdout",
     "output_type": "stream",
     "text": [
      "Epoch: 02, Loss: 0.0403, Train: 74.18%, Valid: 74.95% Test: 73.29%\n",
      "Training...\n"
     ]
    },
    {
     "name": "stderr",
     "output_type": "stream",
     "text": [
      "Iteration: 100%|███████████████████████████| 1029/1029 [00:06<00:00, 161.83it/s]\n"
     ]
    },
    {
     "name": "stdout",
     "output_type": "stream",
     "text": [
      "Evaluating...\n"
     ]
    },
    {
     "name": "stderr",
     "output_type": "stream",
     "text": [
      "Iteration: 100%|███████████████████████████| 1029/1029 [00:03<00:00, 300.81it/s]\n",
      "Iteration: 100%|█████████████████████████████| 129/129 [00:00<00:00, 281.53it/s]\n",
      "Iteration: 100%|█████████████████████████████| 129/129 [00:00<00:00, 311.73it/s]\n"
     ]
    },
    {
     "name": "stdout",
     "output_type": "stream",
     "text": [
      "Epoch: 03, Loss: 0.6944, Train: 73.70%, Valid: 71.51% Test: 73.23%\n",
      "Training...\n"
     ]
    },
    {
     "name": "stderr",
     "output_type": "stream",
     "text": [
      "Iteration: 100%|███████████████████████████| 1029/1029 [00:06<00:00, 163.86it/s]\n"
     ]
    },
    {
     "name": "stdout",
     "output_type": "stream",
     "text": [
      "Evaluating...\n"
     ]
    },
    {
     "name": "stderr",
     "output_type": "stream",
     "text": [
      "Iteration: 100%|███████████████████████████| 1029/1029 [00:03<00:00, 303.72it/s]\n",
      "Iteration: 100%|█████████████████████████████| 129/129 [00:00<00:00, 286.34it/s]\n",
      "Iteration: 100%|█████████████████████████████| 129/129 [00:00<00:00, 315.95it/s]\n"
     ]
    },
    {
     "name": "stdout",
     "output_type": "stream",
     "text": [
      "Epoch: 04, Loss: 0.0520, Train: 75.65%, Valid: 76.78% Test: 69.59%\n",
      "Training...\n"
     ]
    },
    {
     "name": "stderr",
     "output_type": "stream",
     "text": [
      "Iteration: 100%|███████████████████████████| 1029/1029 [00:06<00:00, 163.18it/s]\n"
     ]
    },
    {
     "name": "stdout",
     "output_type": "stream",
     "text": [
      "Evaluating...\n"
     ]
    },
    {
     "name": "stderr",
     "output_type": "stream",
     "text": [
      "Iteration: 100%|███████████████████████████| 1029/1029 [00:03<00:00, 305.51it/s]\n",
      "Iteration: 100%|█████████████████████████████| 129/129 [00:00<00:00, 299.60it/s]\n",
      "Iteration: 100%|█████████████████████████████| 129/129 [00:00<00:00, 295.67it/s]\n"
     ]
    },
    {
     "name": "stdout",
     "output_type": "stream",
     "text": [
      "Epoch: 05, Loss: 0.0172, Train: 75.42%, Valid: 74.90% Test: 72.76%\n",
      "Training...\n"
     ]
    },
    {
     "name": "stderr",
     "output_type": "stream",
     "text": [
      "Iteration: 100%|███████████████████████████| 1029/1029 [00:06<00:00, 161.95it/s]\n"
     ]
    },
    {
     "name": "stdout",
     "output_type": "stream",
     "text": [
      "Evaluating...\n"
     ]
    },
    {
     "name": "stderr",
     "output_type": "stream",
     "text": [
      "Iteration: 100%|███████████████████████████| 1029/1029 [00:03<00:00, 303.43it/s]\n",
      "Iteration: 100%|█████████████████████████████| 129/129 [00:00<00:00, 290.25it/s]\n",
      "Iteration: 100%|█████████████████████████████| 129/129 [00:00<00:00, 305.90it/s]\n"
     ]
    },
    {
     "name": "stdout",
     "output_type": "stream",
     "text": [
      "Epoch: 06, Loss: 0.9050, Train: 76.36%, Valid: 72.33% Test: 73.09%\n",
      "Training...\n"
     ]
    },
    {
     "name": "stderr",
     "output_type": "stream",
     "text": [
      "Iteration: 100%|███████████████████████████| 1029/1029 [00:06<00:00, 163.27it/s]\n"
     ]
    },
    {
     "name": "stdout",
     "output_type": "stream",
     "text": [
      "Evaluating...\n"
     ]
    },
    {
     "name": "stderr",
     "output_type": "stream",
     "text": [
      "Iteration: 100%|███████████████████████████| 1029/1029 [00:03<00:00, 302.97it/s]\n",
      "Iteration: 100%|█████████████████████████████| 129/129 [00:00<00:00, 304.65it/s]\n",
      "Iteration: 100%|█████████████████████████████| 129/129 [00:00<00:00, 315.62it/s]\n"
     ]
    },
    {
     "name": "stdout",
     "output_type": "stream",
     "text": [
      "Epoch: 07, Loss: 0.0297, Train: 77.42%, Valid: 73.01% Test: 72.37%\n",
      "Training...\n"
     ]
    },
    {
     "name": "stderr",
     "output_type": "stream",
     "text": [
      "Iteration: 100%|███████████████████████████| 1029/1029 [00:06<00:00, 163.31it/s]\n"
     ]
    },
    {
     "name": "stdout",
     "output_type": "stream",
     "text": [
      "Evaluating...\n"
     ]
    },
    {
     "name": "stderr",
     "output_type": "stream",
     "text": [
      "Iteration: 100%|███████████████████████████| 1029/1029 [00:03<00:00, 305.44it/s]\n",
      "Iteration: 100%|█████████████████████████████| 129/129 [00:00<00:00, 300.70it/s]\n",
      "Iteration: 100%|█████████████████████████████| 129/129 [00:00<00:00, 310.32it/s]\n"
     ]
    },
    {
     "name": "stdout",
     "output_type": "stream",
     "text": [
      "Epoch: 08, Loss: 0.0256, Train: 77.99%, Valid: 76.75% Test: 71.09%\n",
      "Training...\n"
     ]
    },
    {
     "name": "stderr",
     "output_type": "stream",
     "text": [
      "Iteration: 100%|███████████████████████████| 1029/1029 [00:06<00:00, 163.34it/s]\n"
     ]
    },
    {
     "name": "stdout",
     "output_type": "stream",
     "text": [
      "Evaluating...\n"
     ]
    },
    {
     "name": "stderr",
     "output_type": "stream",
     "text": [
      "Iteration: 100%|███████████████████████████| 1029/1029 [00:03<00:00, 304.36it/s]\n",
      "Iteration: 100%|█████████████████████████████| 129/129 [00:00<00:00, 304.57it/s]\n",
      "Iteration: 100%|█████████████████████████████| 129/129 [00:00<00:00, 310.37it/s]\n"
     ]
    },
    {
     "name": "stdout",
     "output_type": "stream",
     "text": [
      "Epoch: 09, Loss: 0.0587, Train: 78.31%, Valid: 77.95% Test: 72.29%\n",
      "Training...\n"
     ]
    },
    {
     "name": "stderr",
     "output_type": "stream",
     "text": [
      "Iteration: 100%|███████████████████████████| 1029/1029 [00:06<00:00, 163.31it/s]\n"
     ]
    },
    {
     "name": "stdout",
     "output_type": "stream",
     "text": [
      "Evaluating...\n"
     ]
    },
    {
     "name": "stderr",
     "output_type": "stream",
     "text": [
      "Iteration: 100%|███████████████████████████| 1029/1029 [00:03<00:00, 303.96it/s]\n",
      "Iteration: 100%|█████████████████████████████| 129/129 [00:00<00:00, 297.90it/s]\n",
      "Iteration: 100%|█████████████████████████████| 129/129 [00:00<00:00, 311.20it/s]\n"
     ]
    },
    {
     "name": "stdout",
     "output_type": "stream",
     "text": [
      "Epoch: 10, Loss: 0.0508, Train: 78.68%, Valid: 76.66% Test: 71.41%\n",
      "Training...\n"
     ]
    },
    {
     "name": "stderr",
     "output_type": "stream",
     "text": [
      "Iteration: 100%|███████████████████████████| 1029/1029 [00:06<00:00, 161.90it/s]\n"
     ]
    },
    {
     "name": "stdout",
     "output_type": "stream",
     "text": [
      "Evaluating...\n"
     ]
    },
    {
     "name": "stderr",
     "output_type": "stream",
     "text": [
      "Iteration: 100%|███████████████████████████| 1029/1029 [00:03<00:00, 298.97it/s]\n",
      "Iteration: 100%|█████████████████████████████| 129/129 [00:00<00:00, 287.15it/s]\n",
      "Iteration: 100%|█████████████████████████████| 129/129 [00:00<00:00, 313.40it/s]\n"
     ]
    },
    {
     "name": "stdout",
     "output_type": "stream",
     "text": [
      "Epoch: 11, Loss: 0.0262, Train: 79.03%, Valid: 78.10% Test: 73.43%\n",
      "Training...\n"
     ]
    },
    {
     "name": "stderr",
     "output_type": "stream",
     "text": [
      "Iteration: 100%|███████████████████████████| 1029/1029 [00:06<00:00, 161.69it/s]\n"
     ]
    },
    {
     "name": "stdout",
     "output_type": "stream",
     "text": [
      "Evaluating...\n"
     ]
    },
    {
     "name": "stderr",
     "output_type": "stream",
     "text": [
      "Iteration: 100%|███████████████████████████| 1029/1029 [00:03<00:00, 302.94it/s]\n",
      "Iteration: 100%|█████████████████████████████| 129/129 [00:00<00:00, 297.24it/s]\n",
      "Iteration: 100%|█████████████████████████████| 129/129 [00:00<00:00, 308.23it/s]\n"
     ]
    },
    {
     "name": "stdout",
     "output_type": "stream",
     "text": [
      "Epoch: 12, Loss: 0.0205, Train: 78.83%, Valid: 75.85% Test: 71.03%\n",
      "Training...\n"
     ]
    },
    {
     "name": "stderr",
     "output_type": "stream",
     "text": [
      "Iteration: 100%|███████████████████████████| 1029/1029 [00:06<00:00, 162.91it/s]\n"
     ]
    },
    {
     "name": "stdout",
     "output_type": "stream",
     "text": [
      "Evaluating...\n"
     ]
    },
    {
     "name": "stderr",
     "output_type": "stream",
     "text": [
      "Iteration: 100%|███████████████████████████| 1029/1029 [00:03<00:00, 306.20it/s]\n",
      "Iteration: 100%|█████████████████████████████| 129/129 [00:00<00:00, 305.73it/s]\n",
      "Iteration: 100%|█████████████████████████████| 129/129 [00:00<00:00, 312.99it/s]\n"
     ]
    },
    {
     "name": "stdout",
     "output_type": "stream",
     "text": [
      "Epoch: 13, Loss: 0.0298, Train: 79.43%, Valid: 76.11% Test: 72.65%\n",
      "Training...\n"
     ]
    },
    {
     "name": "stderr",
     "output_type": "stream",
     "text": [
      "Iteration: 100%|███████████████████████████| 1029/1029 [00:06<00:00, 163.12it/s]\n"
     ]
    },
    {
     "name": "stdout",
     "output_type": "stream",
     "text": [
      "Evaluating...\n"
     ]
    },
    {
     "name": "stderr",
     "output_type": "stream",
     "text": [
      "Iteration: 100%|███████████████████████████| 1029/1029 [00:03<00:00, 305.30it/s]\n",
      "Iteration: 100%|█████████████████████████████| 129/129 [00:00<00:00, 300.16it/s]\n",
      "Iteration: 100%|█████████████████████████████| 129/129 [00:00<00:00, 315.82it/s]\n"
     ]
    },
    {
     "name": "stdout",
     "output_type": "stream",
     "text": [
      "Epoch: 14, Loss: 0.0443, Train: 79.29%, Valid: 76.74% Test: 71.44%\n",
      "Training...\n"
     ]
    },
    {
     "name": "stderr",
     "output_type": "stream",
     "text": [
      "Iteration: 100%|███████████████████████████| 1029/1029 [00:06<00:00, 163.01it/s]\n"
     ]
    },
    {
     "name": "stdout",
     "output_type": "stream",
     "text": [
      "Evaluating...\n"
     ]
    },
    {
     "name": "stderr",
     "output_type": "stream",
     "text": [
      "Iteration: 100%|███████████████████████████| 1029/1029 [00:03<00:00, 304.99it/s]\n",
      "Iteration: 100%|█████████████████████████████| 129/129 [00:00<00:00, 312.03it/s]\n",
      "Iteration: 100%|█████████████████████████████| 129/129 [00:00<00:00, 315.26it/s]\n"
     ]
    },
    {
     "name": "stdout",
     "output_type": "stream",
     "text": [
      "Epoch: 15, Loss: 0.0514, Train: 80.04%, Valid: 78.42% Test: 73.26%\n",
      "Training...\n"
     ]
    },
    {
     "name": "stderr",
     "output_type": "stream",
     "text": [
      "Iteration: 100%|███████████████████████████| 1029/1029 [00:06<00:00, 162.90it/s]\n"
     ]
    },
    {
     "name": "stdout",
     "output_type": "stream",
     "text": [
      "Evaluating...\n"
     ]
    },
    {
     "name": "stderr",
     "output_type": "stream",
     "text": [
      "Iteration: 100%|███████████████████████████| 1029/1029 [00:03<00:00, 305.42it/s]\n",
      "Iteration: 100%|█████████████████████████████| 129/129 [00:00<00:00, 309.99it/s]\n",
      "Iteration: 100%|█████████████████████████████| 129/129 [00:00<00:00, 311.72it/s]\n"
     ]
    },
    {
     "name": "stdout",
     "output_type": "stream",
     "text": [
      "Epoch: 16, Loss: 0.8854, Train: 79.41%, Valid: 77.08% Test: 72.93%\n",
      "Training...\n"
     ]
    },
    {
     "name": "stderr",
     "output_type": "stream",
     "text": [
      "Iteration: 100%|███████████████████████████| 1029/1029 [00:06<00:00, 163.39it/s]\n"
     ]
    },
    {
     "name": "stdout",
     "output_type": "stream",
     "text": [
      "Evaluating...\n"
     ]
    },
    {
     "name": "stderr",
     "output_type": "stream",
     "text": [
      "Iteration: 100%|███████████████████████████| 1029/1029 [00:03<00:00, 299.24it/s]\n",
      "Iteration: 100%|█████████████████████████████| 129/129 [00:00<00:00, 298.31it/s]\n",
      "Iteration: 100%|█████████████████████████████| 129/129 [00:00<00:00, 303.96it/s]\n"
     ]
    },
    {
     "name": "stdout",
     "output_type": "stream",
     "text": [
      "Epoch: 17, Loss: 0.0257, Train: 79.47%, Valid: 77.28% Test: 70.12%\n",
      "Training...\n"
     ]
    },
    {
     "name": "stderr",
     "output_type": "stream",
     "text": [
      "Iteration: 100%|███████████████████████████| 1029/1029 [00:06<00:00, 163.33it/s]\n"
     ]
    },
    {
     "name": "stdout",
     "output_type": "stream",
     "text": [
      "Evaluating...\n"
     ]
    },
    {
     "name": "stderr",
     "output_type": "stream",
     "text": [
      "Iteration: 100%|███████████████████████████| 1029/1029 [00:03<00:00, 304.92it/s]\n",
      "Iteration: 100%|█████████████████████████████| 129/129 [00:00<00:00, 294.94it/s]\n",
      "Iteration: 100%|█████████████████████████████| 129/129 [00:00<00:00, 318.41it/s]\n"
     ]
    },
    {
     "name": "stdout",
     "output_type": "stream",
     "text": [
      "Epoch: 18, Loss: 0.0218, Train: 80.58%, Valid: 75.84% Test: 70.69%\n",
      "Training...\n"
     ]
    },
    {
     "name": "stderr",
     "output_type": "stream",
     "text": [
      "Iteration: 100%|███████████████████████████| 1029/1029 [00:06<00:00, 163.98it/s]\n"
     ]
    },
    {
     "name": "stdout",
     "output_type": "stream",
     "text": [
      "Evaluating...\n"
     ]
    },
    {
     "name": "stderr",
     "output_type": "stream",
     "text": [
      "Iteration: 100%|███████████████████████████| 1029/1029 [00:03<00:00, 300.49it/s]\n",
      "Iteration: 100%|█████████████████████████████| 129/129 [00:00<00:00, 289.22it/s]\n",
      "Iteration: 100%|█████████████████████████████| 129/129 [00:00<00:00, 308.09it/s]\n"
     ]
    },
    {
     "name": "stdout",
     "output_type": "stream",
     "text": [
      "Epoch: 19, Loss: 0.0167, Train: 78.49%, Valid: 77.13% Test: 73.16%\n",
      "Training...\n"
     ]
    },
    {
     "name": "stderr",
     "output_type": "stream",
     "text": [
      "Iteration: 100%|███████████████████████████| 1029/1029 [00:06<00:00, 163.49it/s]\n"
     ]
    },
    {
     "name": "stdout",
     "output_type": "stream",
     "text": [
      "Evaluating...\n"
     ]
    },
    {
     "name": "stderr",
     "output_type": "stream",
     "text": [
      "Iteration: 100%|███████████████████████████| 1029/1029 [00:03<00:00, 304.86it/s]\n",
      "Iteration: 100%|█████████████████████████████| 129/129 [00:00<00:00, 308.13it/s]\n",
      "Iteration: 100%|█████████████████████████████| 129/129 [00:00<00:00, 311.05it/s]\n"
     ]
    },
    {
     "name": "stdout",
     "output_type": "stream",
     "text": [
      "Epoch: 20, Loss: 0.6799, Train: 79.85%, Valid: 75.30% Test: 74.12%\n",
      "Training...\n"
     ]
    },
    {
     "name": "stderr",
     "output_type": "stream",
     "text": [
      "Iteration: 100%|███████████████████████████| 1029/1029 [00:06<00:00, 162.31it/s]\n"
     ]
    },
    {
     "name": "stdout",
     "output_type": "stream",
     "text": [
      "Evaluating...\n"
     ]
    },
    {
     "name": "stderr",
     "output_type": "stream",
     "text": [
      "Iteration: 100%|███████████████████████████| 1029/1029 [00:03<00:00, 303.83it/s]\n",
      "Iteration: 100%|█████████████████████████████| 129/129 [00:00<00:00, 281.23it/s]\n",
      "Iteration: 100%|█████████████████████████████| 129/129 [00:00<00:00, 306.37it/s]\n"
     ]
    },
    {
     "name": "stdout",
     "output_type": "stream",
     "text": [
      "Epoch: 21, Loss: 0.9018, Train: 80.25%, Valid: 73.79% Test: 73.42%\n",
      "Training...\n"
     ]
    },
    {
     "name": "stderr",
     "output_type": "stream",
     "text": [
      "Iteration: 100%|███████████████████████████| 1029/1029 [00:06<00:00, 163.21it/s]\n"
     ]
    },
    {
     "name": "stdout",
     "output_type": "stream",
     "text": [
      "Evaluating...\n"
     ]
    },
    {
     "name": "stderr",
     "output_type": "stream",
     "text": [
      "Iteration: 100%|███████████████████████████| 1029/1029 [00:03<00:00, 302.50it/s]\n",
      "Iteration: 100%|█████████████████████████████| 129/129 [00:00<00:00, 284.88it/s]\n",
      "Iteration: 100%|█████████████████████████████| 129/129 [00:00<00:00, 307.51it/s]\n"
     ]
    },
    {
     "name": "stdout",
     "output_type": "stream",
     "text": [
      "Epoch: 22, Loss: 0.0241, Train: 80.31%, Valid: 78.87% Test: 72.33%\n",
      "Training...\n"
     ]
    },
    {
     "name": "stderr",
     "output_type": "stream",
     "text": [
      "Iteration: 100%|███████████████████████████| 1029/1029 [00:06<00:00, 163.38it/s]\n"
     ]
    },
    {
     "name": "stdout",
     "output_type": "stream",
     "text": [
      "Evaluating...\n"
     ]
    },
    {
     "name": "stderr",
     "output_type": "stream",
     "text": [
      "Iteration: 100%|███████████████████████████| 1029/1029 [00:03<00:00, 306.47it/s]\n",
      "Iteration: 100%|█████████████████████████████| 129/129 [00:00<00:00, 274.52it/s]\n",
      "Iteration: 100%|█████████████████████████████| 129/129 [00:00<00:00, 304.88it/s]\n"
     ]
    },
    {
     "name": "stdout",
     "output_type": "stream",
     "text": [
      "Epoch: 23, Loss: 0.0324, Train: 80.82%, Valid: 75.91% Test: 73.09%\n",
      "Training...\n"
     ]
    },
    {
     "name": "stderr",
     "output_type": "stream",
     "text": [
      "Iteration: 100%|███████████████████████████| 1029/1029 [00:06<00:00, 163.13it/s]\n"
     ]
    },
    {
     "name": "stdout",
     "output_type": "stream",
     "text": [
      "Evaluating...\n"
     ]
    },
    {
     "name": "stderr",
     "output_type": "stream",
     "text": [
      "Iteration: 100%|███████████████████████████| 1029/1029 [00:03<00:00, 303.56it/s]\n",
      "Iteration: 100%|█████████████████████████████| 129/129 [00:00<00:00, 268.27it/s]\n",
      "Iteration: 100%|█████████████████████████████| 129/129 [00:00<00:00, 304.69it/s]\n"
     ]
    },
    {
     "name": "stdout",
     "output_type": "stream",
     "text": [
      "Epoch: 24, Loss: 0.8580, Train: 80.18%, Valid: 76.15% Test: 73.13%\n",
      "Training...\n"
     ]
    },
    {
     "name": "stderr",
     "output_type": "stream",
     "text": [
      "Iteration: 100%|███████████████████████████| 1029/1029 [00:06<00:00, 163.69it/s]\n"
     ]
    },
    {
     "name": "stdout",
     "output_type": "stream",
     "text": [
      "Evaluating...\n"
     ]
    },
    {
     "name": "stderr",
     "output_type": "stream",
     "text": [
      "Iteration: 100%|███████████████████████████| 1029/1029 [00:03<00:00, 305.02it/s]\n",
      "Iteration: 100%|█████████████████████████████| 129/129 [00:00<00:00, 279.82it/s]\n",
      "Iteration: 100%|█████████████████████████████| 129/129 [00:00<00:00, 304.68it/s]\n"
     ]
    },
    {
     "name": "stdout",
     "output_type": "stream",
     "text": [
      "Epoch: 25, Loss: 0.0311, Train: 81.02%, Valid: 72.96% Test: 70.78%\n",
      "Training...\n"
     ]
    },
    {
     "name": "stderr",
     "output_type": "stream",
     "text": [
      "Iteration: 100%|███████████████████████████| 1029/1029 [00:06<00:00, 162.69it/s]\n"
     ]
    },
    {
     "name": "stdout",
     "output_type": "stream",
     "text": [
      "Evaluating...\n"
     ]
    },
    {
     "name": "stderr",
     "output_type": "stream",
     "text": [
      "Iteration: 100%|███████████████████████████| 1029/1029 [00:03<00:00, 304.22it/s]\n",
      "Iteration: 100%|█████████████████████████████| 129/129 [00:00<00:00, 314.30it/s]\n",
      "Iteration: 100%|█████████████████████████████| 129/129 [00:00<00:00, 307.68it/s]\n"
     ]
    },
    {
     "name": "stdout",
     "output_type": "stream",
     "text": [
      "Epoch: 26, Loss: 0.0177, Train: 81.04%, Valid: 77.32% Test: 74.04%\n",
      "Training...\n"
     ]
    },
    {
     "name": "stderr",
     "output_type": "stream",
     "text": [
      "Iteration: 100%|███████████████████████████| 1029/1029 [00:06<00:00, 162.19it/s]\n"
     ]
    },
    {
     "name": "stdout",
     "output_type": "stream",
     "text": [
      "Evaluating...\n"
     ]
    },
    {
     "name": "stderr",
     "output_type": "stream",
     "text": [
      "Iteration: 100%|███████████████████████████| 1029/1029 [00:03<00:00, 303.03it/s]\n",
      "Iteration: 100%|█████████████████████████████| 129/129 [00:00<00:00, 280.81it/s]\n",
      "Iteration: 100%|█████████████████████████████| 129/129 [00:00<00:00, 306.25it/s]\n"
     ]
    },
    {
     "name": "stdout",
     "output_type": "stream",
     "text": [
      "Epoch: 27, Loss: 0.9750, Train: 81.50%, Valid: 77.56% Test: 73.91%\n",
      "Training...\n"
     ]
    },
    {
     "name": "stderr",
     "output_type": "stream",
     "text": [
      "Iteration: 100%|███████████████████████████| 1029/1029 [00:06<00:00, 162.77it/s]\n"
     ]
    },
    {
     "name": "stdout",
     "output_type": "stream",
     "text": [
      "Evaluating...\n"
     ]
    },
    {
     "name": "stderr",
     "output_type": "stream",
     "text": [
      "Iteration: 100%|███████████████████████████| 1029/1029 [00:03<00:00, 304.74it/s]\n",
      "Iteration: 100%|█████████████████████████████| 129/129 [00:00<00:00, 301.25it/s]\n",
      "Iteration: 100%|█████████████████████████████| 129/129 [00:00<00:00, 297.44it/s]\n"
     ]
    },
    {
     "name": "stdout",
     "output_type": "stream",
     "text": [
      "Epoch: 28, Loss: 0.4485, Train: 80.84%, Valid: 77.23% Test: 72.52%\n",
      "Training...\n"
     ]
    },
    {
     "name": "stderr",
     "output_type": "stream",
     "text": [
      "Iteration: 100%|███████████████████████████| 1029/1029 [00:06<00:00, 162.02it/s]\n"
     ]
    },
    {
     "name": "stdout",
     "output_type": "stream",
     "text": [
      "Evaluating...\n"
     ]
    },
    {
     "name": "stderr",
     "output_type": "stream",
     "text": [
      "Iteration: 100%|███████████████████████████| 1029/1029 [00:03<00:00, 304.80it/s]\n",
      "Iteration: 100%|█████████████████████████████| 129/129 [00:00<00:00, 308.56it/s]\n",
      "Iteration: 100%|█████████████████████████████| 129/129 [00:00<00:00, 317.56it/s]\n"
     ]
    },
    {
     "name": "stdout",
     "output_type": "stream",
     "text": [
      "Epoch: 29, Loss: 0.0283, Train: 82.07%, Valid: 76.53% Test: 73.76%\n",
      "Training...\n"
     ]
    },
    {
     "name": "stderr",
     "output_type": "stream",
     "text": [
      "Iteration: 100%|███████████████████████████| 1029/1029 [00:06<00:00, 163.61it/s]\n"
     ]
    },
    {
     "name": "stdout",
     "output_type": "stream",
     "text": [
      "Evaluating...\n"
     ]
    },
    {
     "name": "stderr",
     "output_type": "stream",
     "text": [
      "Iteration: 100%|███████████████████████████| 1029/1029 [00:03<00:00, 304.12it/s]\n",
      "Iteration: 100%|█████████████████████████████| 129/129 [00:00<00:00, 304.81it/s]\n",
      "Iteration: 100%|█████████████████████████████| 129/129 [00:00<00:00, 311.89it/s]"
     ]
    },
    {
     "name": "stdout",
     "output_type": "stream",
     "text": [
      "Epoch: 30, Loss: 0.7446, Train: 81.52%, Valid: 76.25% Test: 73.15%\n"
     ]
    },
    {
     "name": "stderr",
     "output_type": "stream",
     "text": [
      "\n"
     ]
    }
   ],
   "source": [
    "import copy\n",
    "\n",
    "model.reset_parameters()\n",
    "\n",
    "optimizer = torch.optim.Adam(model.parameters(), lr=args['lr'])\n",
    "loss_fn = torch.nn.BCEWithLogitsLoss()\n",
    "\n",
    "best_model = None\n",
    "best_valid_acc = 0\n",
    "\n",
    "for epoch in range(1, 1 + args[\"epochs\"]):\n",
    "    print('Training...')\n",
    "    loss = train(model, device, train_loader, optimizer, loss_fn)\n",
    "\n",
    "    print('Evaluating...')\n",
    "    train_result = eval(model, device, train_loader, evaluator)\n",
    "    val_result = eval(model, device, valid_loader, evaluator)\n",
    "    test_result = eval(model, device, test_loader, evaluator)\n",
    "\n",
    "    train_acc, valid_acc, test_acc = train_result[dataset.eval_metric], val_result[dataset.eval_metric], test_result[dataset.eval_metric]\n",
    "    if valid_acc > best_valid_acc:\n",
    "        best_valid_acc = valid_acc\n",
    "        best_model = copy.deepcopy(model)\n",
    "    print(f'Epoch: {epoch:02d}, '\n",
    "        f'Loss: {loss:.4f}, '\n",
    "        f'Train: {100 * train_acc:.2f}%, '\n",
    "        f'Valid: {100 * valid_acc:.2f}% '\n",
    "        f'Test: {100 * test_acc:.2f}%')"
   ]
  },
  {
   "cell_type": "code",
   "execution_count": 27,
   "id": "8b0d6d2a",
   "metadata": {},
   "outputs": [
    {
     "name": "stderr",
     "output_type": "stream",
     "text": [
      "Iteration: 100%|███████████████████████████| 1029/1029 [00:03<00:00, 299.66it/s]\n",
      "Iteration: 100%|█████████████████████████████| 129/129 [00:00<00:00, 299.43it/s]\n",
      "Iteration: 100%|█████████████████████████████| 129/129 [00:00<00:00, 316.93it/s]"
     ]
    },
    {
     "name": "stdout",
     "output_type": "stream",
     "text": [
      "Best model: Train: 80.31%, Valid: 78.87% Test: 72.33%\n"
     ]
    },
    {
     "name": "stderr",
     "output_type": "stream",
     "text": [
      "\n"
     ]
    }
   ],
   "source": [
    "train_acc = eval(best_model, device, train_loader, evaluator)[dataset.eval_metric]\n",
    "valid_acc = eval(best_model, device, valid_loader, evaluator)[dataset.eval_metric]\n",
    "test_acc = eval(best_model, device, test_loader, evaluator)[dataset.eval_metric]\n",
    "\n",
    "print(f'Best model: '\n",
    "      f'Train: {100 * train_acc:.2f}%, '\n",
    "      f'Valid: {100 * valid_acc:.2f}% '\n",
    "      f'Test: {100 * test_acc:.2f}%')"
   ]
  },
  {
   "cell_type": "markdown",
   "id": "67aaaba6",
   "metadata": {},
   "source": [
    "## Question 6: What are your `best_model` validation and test ROC-AUC score? Please report them on Gradescope. For example, for an ROC-AUC score such as 50.01%, just report 50.01 and please don't include the percent sign. (20 points)"
   ]
  },
  {
   "cell_type": "code",
   "execution_count": 28,
   "id": "8fb7792d",
   "metadata": {},
   "outputs": [
    {
     "name": "stdout",
     "output_type": "stream",
     "text": [
      "rocauc\n",
      "0.7886629188712522\n",
      "0.7233376465362404\n"
     ]
    }
   ],
   "source": [
    "print(dataset.eval_metric)\n",
    "print(valid_acc)\n",
    "print(test_acc)\n"
   ]
  },
  {
   "cell_type": "markdown",
   "id": "3c8dbe8f",
   "metadata": {},
   "source": [
    "## Question 7 (Optional): Experiment with other two global pooling layers other than mean pooling in Pytorch Geometric."
   ]
  },
  {
   "cell_type": "code",
   "execution_count": null,
   "id": "c28f670b",
   "metadata": {},
   "outputs": [],
   "source": []
  },
  {
   "cell_type": "code",
   "execution_count": null,
   "id": "6f01cb12",
   "metadata": {},
   "outputs": [],
   "source": []
  },
  {
   "cell_type": "markdown",
   "id": "2c7f888a",
   "metadata": {},
   "source": [
    "## References \n",
    "---\n",
    "- http://snap.stanford.edu/class/cs224w-2020/\n",
    "- https://colab.research.google.com/drive/1Aa0eKSmyYef1gORvlHv7EeQzSVRb30eL?usp=sharing\n",
    "- https://pytorch-geometric.readthedocs.io/en/latest/notes/introduction.html"
   ]
  }
 ],
 "metadata": {
  "kernelspec": {
   "display_name": "TIL",
   "language": "python",
   "name": "til"
  },
  "language_info": {
   "codemirror_mode": {
    "name": "ipython",
    "version": 3
   },
   "file_extension": ".py",
   "mimetype": "text/x-python",
   "name": "python",
   "nbconvert_exporter": "python",
   "pygments_lexer": "ipython3",
   "version": "3.9.13"
  }
 },
 "nbformat": 4,
 "nbformat_minor": 5
}
