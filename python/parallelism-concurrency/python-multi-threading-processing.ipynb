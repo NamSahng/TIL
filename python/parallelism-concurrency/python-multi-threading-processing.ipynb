{
 "cells": [
  {
   "cell_type": "code",
   "execution_count": 1,
   "id": "28991ace",
   "metadata": {
    "scrolled": true
   },
   "outputs": [
    {
     "name": "stdout",
     "output_type": "stream",
     "text": [
      "Function start!  Hello t1 pid: 526833 thread id: 140023953340160\n",
      "Function start!  Hello t2 pid: 526833 thread id: 140023944947456\n"
     ]
    }
   ],
   "source": [
    "\n",
    "import threading\n",
    "import time\n",
    "import os\n",
    "\n",
    "def hello(s):\n",
    "    print('Function start! ', s, 'pid:', os.getpid(), 'thread id:', threading.get_ident())\n",
    "    time.sleep(1)\n",
    "\n",
    "t1 = threading.Thread(target=hello, args=['Hello t1'])\n",
    "t2 = threading.Thread(target=hello, args=['Hello t2'])\n",
    "t1.start()\n",
    "t2.start()\n",
    "t1.join()\n",
    "t2.join()\n"
   ]
  },
  {
   "cell_type": "code",
   "execution_count": 2,
   "id": "717e60d7",
   "metadata": {},
   "outputs": [
    {
     "name": "stdout",
     "output_type": "stream",
     "text": [
      "Function start!  Hello p2 pid: 527086 thread id: 140024441164160\n",
      "Function start!  Hello p1 pid: 527084 thread id: 140024441164160\n"
     ]
    }
   ],
   "source": [
    "\n",
    "import multiprocessing\n",
    "import time\n",
    "import os\n",
    "\n",
    "def hello(s):\n",
    "    print('Function start! ', s, 'pid:', os.getpid(), 'thread id:', threading.get_ident())\n",
    "    time.sleep(1)\n",
    "\n",
    "p1 = multiprocessing.Process(target=hello, args=['Hello p1'])\n",
    "p2 = multiprocessing.Process(target=hello, args=['Hello p2'])\n",
    "p1.start()\n",
    "p2.start()\n",
    "p1.join()\n",
    "p2.join()\n"
   ]
  },
  {
   "cell_type": "code",
   "execution_count": 36,
   "id": "7ea5fd7a",
   "metadata": {},
   "outputs": [
    {
     "name": "stdout",
     "output_type": "stream",
     "text": [
      "MP:\n",
      "Thread=140151806050688, Process=674648Thread=140151806050688, Process=674651Thread=140151806050688, Process=674649Thread=140151806050688, Process=674650\n",
      "\n",
      "\n",
      "\n",
      "MT:\n",
      "Thread=140150854104832, Process=557577\n",
      "Thread=140150352901888, Process=557577\n",
      "Thread=140150352901888, Process=557577\n",
      "Thread=140150352901888, Process=557577\n"
     ]
    }
   ],
   "source": [
    "import threading\n",
    "import os\n",
    "import time\n",
    "from concurrent.futures import ProcessPoolExecutor, ThreadPoolExecutor\n",
    "\n",
    "def identify_self():\n",
    "    print(f\"Thread={threading.get_ident()}, Process={os.getpid()}\", end='\\n')\n",
    "\n",
    "\n",
    "print(\"MP:\")\n",
    "with ProcessPoolExecutor(max_workers=4) as executor:\n",
    "    for i in range(4):\n",
    "        executor.submit(identify_self)\n",
    "\n",
    "print(\"MT:\")\n",
    "with ThreadPoolExecutor(max_workers=4) as executor:\n",
    "    for i in range(4):\n",
    "        executor.submit(identify_self)"
   ]
  },
  {
   "cell_type": "code",
   "execution_count": 3,
   "id": "6fdf98ee",
   "metadata": {},
   "outputs": [
    {
     "name": "stdout",
     "output_type": "stream",
     "text": [
      "카운터 값은 500000여야 하는데, 실제로는 500000 입니다\n"
     ]
    }
   ],
   "source": [
    "from threading import Thread\n",
    "\n",
    "class Counter:\n",
    "    def __init__(self):\n",
    "        self.count = 0\n",
    "\n",
    "    def increment(self, offset):\n",
    "        self.count += offset\n",
    "\n",
    "def worker(sensor_index, how_many, counter):\n",
    "    for _ in range(how_many):\n",
    "        counter.increment(1)\n",
    "\n",
    "how_many = 10**5\n",
    "counter = Counter()\n",
    "\n",
    "threads = []\n",
    "for i in range(5):\n",
    "    thread = Thread(target=worker,\n",
    "                    args=(i, how_many, counter))\n",
    "    threads.append(thread)\n",
    "    thread.start()\n",
    "\n",
    "for thread in threads:\n",
    "    thread.join()\n",
    "\n",
    "expected = how_many * 5\n",
    "found = counter.count\n",
    "print(f'카운터 값은 {expected}여야 하는데, 실제로는 {found} 입니다')"
   ]
  },
  {
   "cell_type": "code",
   "execution_count": 4,
   "id": "21b1205c",
   "metadata": {},
   "outputs": [
    {
     "name": "stdout",
     "output_type": "stream",
     "text": [
      "카운터 값은 500000여야 하는데, 실제로는 500000 입니다\n"
     ]
    }
   ],
   "source": [
    "from threading import Thread\n",
    "from threading import Lock\n",
    "\n",
    "class LockingCounter:\n",
    "    def __init__(self):\n",
    "        self.lock = Lock()\n",
    "        self.count = 0\n",
    "\n",
    "    def increment(self, offset):\n",
    "        with self.lock:\n",
    "            self.count += offset\n",
    "\n",
    "def worker(sensor_index, how_many, counter):\n",
    "    for _ in range(how_many):\n",
    "        counter.increment(1)\n",
    "\n",
    "\n",
    "how_many = 10**5\n",
    "counter = LockingCounter()\n",
    "\n",
    "threads = []\n",
    "for i in range(5):\n",
    "    thread = Thread(target=worker,\n",
    "                    args=(i, how_many, counter))\n",
    "    threads.append(thread)\n",
    "    thread.start()\n",
    "\n",
    "for thread in threads:\n",
    "    thread.join()\n",
    "\n",
    "expected = how_many * 5\n",
    "found = counter.count\n",
    "print(f'카운터 값은 {expected}여야 하는데, 실제로는 {found} 입니다')\n",
    "\n"
   ]
  },
  {
   "cell_type": "code",
   "execution_count": 5,
   "id": "61399270",
   "metadata": {},
   "outputs": [
    {
     "name": "stdout",
     "output_type": "stream",
     "text": [
      "카운터 값은 500000여야 하는데, 실제로는 158365 입니다\n"
     ]
    }
   ],
   "source": [
    "\n",
    "from multiprocessing import Process , Value\n",
    "\n",
    "\n",
    "class Counter:\n",
    "    def __init__(self):\n",
    "        self.count = Value('i', 0)\n",
    "\n",
    "    def increment(self, offset):\n",
    "        self.count.value += offset\n",
    "        \n",
    "how_many = 10**5\n",
    "counter = Counter()\n",
    "\n",
    "\n",
    "def worker(sensor_index, how_many, counter):\n",
    "    for _ in range(how_many):\n",
    "        # 센서를 읽는다\n",
    "        counter.increment(1)\n",
    "\n",
    "\n",
    "processes = []\n",
    "\n",
    "for i in range(5):\n",
    "    process = Process(target=worker,\n",
    "                    args=(i, how_many, counter))\n",
    "    processes.append(process)\n",
    "    process.start()\n",
    "\n",
    "for process in processes:\n",
    "    process.join()\n",
    "\n",
    "expected = how_many * 5\n",
    "found = counter.count.value\n",
    "\n",
    "print(f'카운터 값은 {expected}여야 하는데, 실제로는 {found} 입니다')"
   ]
  },
  {
   "cell_type": "code",
   "execution_count": 6,
   "id": "96659bcf",
   "metadata": {},
   "outputs": [
    {
     "name": "stdout",
     "output_type": "stream",
     "text": [
      "카운터 값은 500000여야 하는데, 실제로는 500000 입니다\n"
     ]
    }
   ],
   "source": [
    "\n",
    "from multiprocessing import Process , Value\n",
    "from multiprocessing import Lock\n",
    "\n",
    "\n",
    "class Counter:\n",
    "    def __init__(self):\n",
    "        self.count = Value('i', 0)\n",
    "\n",
    "    def increment(self, offset):\n",
    "        self.count.value += offset\n",
    "        \n",
    "how_many = 10**5\n",
    "counter = Counter()\n",
    "\n",
    "\n",
    "def worker(sensor_index, how_many, counter, lock):\n",
    "    for _ in range(how_many):\n",
    "        lock.acquire()\n",
    "        counter.increment(1)\n",
    "        lock.release()\n",
    "\n",
    "lock = Lock()\n",
    "processes = []\n",
    "\n",
    "for i in range(5):\n",
    "    process = Process(target=worker,\n",
    "                    args=(i, how_many, counter, lock))\n",
    "    processes.append(process)\n",
    "    process.start()\n",
    "\n",
    "for process in processes:\n",
    "    process.join()\n",
    "\n",
    "expected = how_many * 5\n",
    "found = counter.count.value\n",
    "\n",
    "print(f'카운터 값은 {expected}여야 하는데, 실제로는 {found} 입니다')"
   ]
  },
  {
   "cell_type": "code",
   "execution_count": 7,
   "id": "7d3fafbc",
   "metadata": {},
   "outputs": [],
   "source": [
    "import os\n",
    "import time\n",
    "import threading\n",
    "from concurrent.futures import ProcessPoolExecutor, ThreadPoolExecutor\n",
    "\n",
    "import matplotlib.pyplot as plt\n",
    "import numpy as np\n",
    "\n",
    "printlock = threading.Lock()\n",
    "\n",
    "def multithreading(func, args, workers):\n",
    "    print(\"multithreading started workers:\", workers)\n",
    "    with ThreadPoolExecutor(workers) as ex:\n",
    "        res = ex.map(func, args)\n",
    "    return list(res)\n",
    "\n",
    "\n",
    "def multiprocessing(func, args, workers):\n",
    "    print(\"multiprocessing started workers:\", workers)\n",
    "    with ProcessPoolExecutor(workers) as ex:\n",
    "        res = ex.map(func, args)\n",
    "    return list(res)\n",
    "\n",
    "\n",
    "def live_tracker(x):\n",
    "    with printlock:\n",
    "        print('Functions start! ', x, \"pid:\", os.getpid(), \"thread id:\", threading.get_ident())\n",
    "    reference = time.time()\n",
    "    l = []\n",
    "    for i in range(10**6):\n",
    "        l.append(time.time() - reference)\n",
    "    return l\n",
    "\n",
    "\n",
    "def visualize_live_runtimes(results, title):\n",
    "    for i, exp in enumerate(results):\n",
    "        plt.scatter(exp, np.ones(len(exp)) * i, alpha=0.8, c='red', edgecolors='none', s=1)\n",
    "\n",
    "    plt.grid(axis='x')\n",
    "    plt.ylabel(\"Tasks\")\n",
    "    ytks = range(len(results))\n",
    "    plt.yticks(ytks, ['job {}'.format(exp) for exp in ytks])\n",
    "    plt.xlabel(\"Seconds\")\n",
    "    plt.title(title)\n",
    "\n",
    "\n"
   ]
  },
  {
   "cell_type": "code",
   "execution_count": 8,
   "id": "ccdd3b55",
   "metadata": {
    "scrolled": false
   },
   "outputs": [
    {
     "name": "stdout",
     "output_type": "stream",
     "text": [
      "multithreading started workers: 4\n",
      "Functions start!  0 pid: 526833 thread id: 140023944947456\n",
      "Functions start!  1 pid: 526833 thread id: 140023450040064\n",
      "Functions start!  2 pid: 526833 thread id: 140023441647360\n",
      "Functions start!  3 pid: 526833 thread id: 140023936554752\n",
      "multiprocessing started workers: 4\n",
      "Functions start!  Functions start! 0Functions start! Functions start!     2pid:13    pid:pid:527668pid:   527670 527669thread id: 527671  thread id: thread id:140024441164160 thread id: \n",
      "140024441164160 140024441164160\n",
      "140024441164160\n",
      "\n"
     ]
    },
    {
     "data": {
      "image/png": "[encoded data removed]",
      "text/plain": [
       "<Figure size 1200x400 with 2 Axes>"
      ]
     },
     "metadata": {},
     "output_type": "display_data"
    }
   ],
   "source": [
    "plt.figure(figsize=(12, 4))\n",
    "plt.subplot(1, 2, 1)\n",
    "visualize_live_runtimes(multithreading(live_tracker, range(4), 4), \"Multithreading\")\n",
    "plt.subplot(1, 2, 2)\n",
    "visualize_live_runtimes(multiprocessing(live_tracker, range(4), 4), \"Multiprocessing\")\n",
    "plt.show()"
   ]
  },
  {
   "cell_type": "markdown",
   "id": "c9d3e0c9",
   "metadata": {},
   "source": [
    "## references\n",
    "---\n",
    "- https://www.youtube.com/watch?v=dzfij2nZbRw\n",
    "- https://github.com/gilbutITbook/080235/blob/master/Chapter7/Better%20way54_1.py\n",
    "- https://medium.com/swlh/protect-your-shared-resource-using-multiprocessing-locks-in-python-21fc90ad5af1"
   ]
  }
 ],
 "metadata": {
  "kernelspec": {
   "display_name": "TIL",
   "language": "python",
   "name": "til"
  },
  "language_info": {
   "codemirror_mode": {
    "name": "ipython",
    "version": 3
   },
   "file_extension": ".py",
   "mimetype": "text/x-python",
   "name": "python",
   "nbconvert_exporter": "python",
   "pygments_lexer": "ipython3",
   "version": "3.9.13"
  }
 },
 "nbformat": 4,
 "nbformat_minor": 5
}
