{
 "cells": [
  {
   "cell_type": "code",
   "execution_count": 1,
   "id": "62e450e6",
   "metadata": {},
   "outputs": [
    {
     "name": "stdout",
     "output_type": "stream",
     "text": [
      "[b'<!doctype html>\\n<!--[if lt IE 7]>   <html class=\"no-js ie6 lt-ie7 lt-ie8 lt-ie9\">   <![endif]-->\\n<!--[if IE 7]>      <html class=\"no-js ie7 lt-ie8 lt-ie9\">          <![endif]-->\\n<!--[if IE 8]>      <h', b'<!DOCTYPE html><html lang=\"en-US\" xmlns:og=\"http://opengraphprotocol.org/schema/\" xmlns:fb=\"http://www.facebook.com/2008/fbml\"><head><meta name=\"viewport\" content=\"width=device-width\"/><meta charSet=\"']\n"
     ]
    }
   ],
   "source": [
    "from concurrent.futures import ThreadPoolExecutor\n",
    "import urllib.request as ur\n",
    "\n",
    "datas = []\n",
    "\n",
    "def get_from(url):\n",
    "    connection = ur.urlopen(url)\n",
    "    data = connection.read()\n",
    "    datas.append(data)\n",
    "\n",
    "urls = [\n",
    "    \"https://python.org\",\n",
    "    \"https://docs.python.org/\"\n",
    "    \"https://wikipedia.org\",\n",
    "    \"https://imdb.com\",    \n",
    "]\n",
    "\n",
    "with ThreadPoolExecutor() as ex:\n",
    "    for url in urls:\n",
    "        ex.submit(get_from, url)\n",
    "\n",
    "# let's just look at the beginning of each data stream\n",
    "# as this could be a lot of data\n",
    "print([_[:200] for _ in datas])"
   ]
  },
  {
   "cell_type": "code",
   "execution_count": 2,
   "id": "517532fc",
   "metadata": {},
   "outputs": [],
   "source": [
    "# %load ./python_coroutines.py\n",
    "# import aiohttp\n",
    "# import asyncio\n",
    "\n",
    "# urls = [\n",
    "#     \"https://imdb.com\",    \n",
    "#     \"https://python.org\",\n",
    "#     \"https://docs.python.org\",\n",
    "#     \"https://wikipedia.org\",\n",
    "# ]\n",
    "\n",
    "# async def get_from(session, url):\n",
    "#     async with session.get(url) as r:\n",
    "#         return await r.text()\n",
    "\n",
    "\n",
    "# async def main():\n",
    "#     async with aiohttp.ClientSession() as session:\n",
    "#         datas = await asyncio.gather(*[get_from(session, u) for u in urls])\n",
    "#         print ([_[:200] for _ in datas])\n",
    "\n",
    "# if __name__ == \"__main__\":\n",
    "#     loop = asyncio.get_event_loop()\n",
    "#     loop.run_until_complete(main())"
   ]
  },
  {
   "cell_type": "code",
   "execution_count": 3,
   "id": "33300795",
   "metadata": {},
   "outputs": [
    {
     "name": "stdout",
     "output_type": "stream",
     "text": [
      "[['<meta charset=\"utf-8\">', '<meta http-equiv=\"X-UA-Compatible\" content=\"IE=edge\">', '<meta name=\"application-name\" content=\"Python.org\">', '<meta name=\"msapplication-tooltip\" content=\"The official home of the Python Programming Language\">', '<meta name=\"apple-mobile-web-app-title\" content=\"Python.org\">', '<meta name=\"apple-mobile-web-app-capable\" content=\"yes\">', '<meta name=\"apple-mobile-web-app-status-bar-style\" content=\"black\">', '<meta name=\"viewport\" content=\"width=device-width, initial-scale=1.0\">', '<meta name=\"HandheldFriendly\" content=\"True\">', '<meta name=\"format-detection\" content=\"telephone=no\">', '<meta http-equiv=\"cleartype\" content=\"on\">', '<meta http-equiv=\"imagetoolbar\" content=\"false\">', '<meta name=\"msapplication-TileImage\" content=\"/static/metro-icon-144x144-precomposed.png\">', '<meta name=\"msapplication-TileColor\" content=\"#3673a5\">', '<meta name=\"msapplication-navbutton-color\" content=\"#3673a5\">', '<meta name=\"description\" content=\"The official home of the Python Programming Language\">', '<meta name=\"keywords\" content=\"Python programming language object oriented web free open source software license documentation download community\">', '<meta property=\"og:type\" content=\"website\">', '<meta property=\"og:site_name\" content=\"Python.org\">', '<meta property=\"og:title\" content=\"Welcome to Python.org\">', '<meta property=\"og:description\" content=\"The official home of the Python Programming Language\">', '<meta property=\"og:image\" content=\"https://www.python.org/static/opengraph-icon-200x200.png\">', '<meta property=\"og:image:secure_url\" content=\"https://www.python.org/static/opengraph-icon-200x200.png\">', '<meta property=\"og:url\" content=\"https://www.python.org/\">'], ['<meta charset=\"utf-8\" />', '<meta name=\"viewport\" content=\"width=device-width, initial-scale=1.0\" />', '<meta name=\"viewport\" content=\"width=device-width, initial-scale=1.0\">'], ['<meta charset=\"utf-8\">', '<meta name=\"description\" content=\"Wikipedia is a free online encyclopedia, created and edited by volunteers around the world and hosted by the Wikimedia Foundation.\">', '<meta name=\"viewport\" content=\"initial-scale=1,user-scalable=yes\">'], ['<meta name=\"viewport\" content=\"width=device-width\"/>', '<meta charSet=\"utf-8\"/>', '<meta name=\"description\" content=\"IMDb is the world&#x27;s most popular and authoritative source for movie, TV and celebrity content. Find ratings and reviews for the newest movie and TV shows. Get personalized recommendations, and learn where to watch across hundreds of streaming providers.\" data-id=\"main\"/>', '<meta property=\"og:site_name\" content=\"IMDb\"/>', '<meta property=\"og:title\" content=\"IMDb: Ratings, Reviews, and Where to Watch the Best Movies &amp; TV Shows\"/>', '<meta property=\"og:description\" content=\"IMDb is the world&#x27;s most popular and authoritative source for movie, TV and celebrity content. Find ratings and reviews for the newest movie and TV shows. Get personalized recommendations, and learn where to watch across hundreds of streaming providers.\"/>', '<meta property=\"og:type\" content=\"website\"/>', '<meta property=\"og:image\" content=\"https://m.media-amazon.com/images/G/01/imdb/images/social/imdb_logo.png\"/>', '<meta property=\"og:image:height\" content=\"1000\"/>', '<meta property=\"og:image:width\" content=\"1000\"/>', '<meta content=\"en_US\" property=\"og:locale\"/>', '<meta content=\"es_ES\" property=\"og:locale:alternate\"/>', '<meta content=\"es_MX\" property=\"og:locale:alternate\"/>', '<meta content=\"fr_FR\" property=\"og:locale:alternate\"/>', '<meta content=\"fr_CA\" property=\"og:locale:alternate\"/>', '<meta content=\"it_IT\" property=\"og:locale:alternate\"/>', '<meta content=\"pt_BR\" property=\"og:locale:alternate\"/>', '<meta content=\"hi_IN\" property=\"og:locale:alternate\"/>', '<meta content=\"de_DE\" property=\"og:locale:alternate\"/>', '<meta property=\"twitter:site\" content=\"@IMDb\"/>', '<meta property=\"twitter:title\" content=\"IMDb: Ratings, Reviews, and Where to Watch the Best Movies &amp; TV Shows\"/>', '<meta property=\"twitter:description\" content=\"IMDb is the world&#x27;s most popular and authoritative source for movie, TV and celebrity content. Find ratings and reviews for the newest movie and TV shows. Get personalized recommendations, and learn where to watch across hundreds of streaming providers.\"/>', '<meta property=\"twitter:card\" content=\"summary_large_image\"/>', '<meta property=\"twitter:image\" content=\"https://m.media-amazon.com/images/G/01/imdb/images/social/imdb_logo.png\"/>', '<meta property=\"twitter:image:alt\" content=\"IMDb is the world&#x27;s most popular and authoritative source for movie, TV and celebrity content. Find ratings and reviews for the newest movie and TV shows. Get personalized recommendations, and learn where to watch across hundreds of streaming providers.\"/>', '<meta property=\"imdb:pageType\" content=\"home\"/>', '<meta property=\"imdb:subPageType\" content=\"main\"/>', '<meta name=\"next-head-count\" content=\"34\"/>']]\n"
     ]
    }
   ],
   "source": [
    "import urllib.request as ur\n",
    "from multiprocessing import Pool\n",
    "import re\n",
    "\n",
    "urls = [\n",
    "    \"https://python.org\",\n",
    "    \"https://docs.python.org\",\n",
    "    \"https://wikipedia.org\",\n",
    "    \"https://imdb.com\",    \n",
    "]\n",
    "\n",
    "meta_match = re.compile(\"<meta .*?>\")\n",
    "\n",
    "def get_from(url):\n",
    "    connection = ur.urlopen(url)\n",
    "    data = str(connection.read())\n",
    "    return meta_match.findall(data)\n",
    "\n",
    "\n",
    "with Pool() as p:\n",
    "    datas = p.map(get_from, urls)\n",
    "print (datas)\n"
   ]
  },
  {
   "cell_type": "markdown",
   "id": "6e9cefdf",
   "metadata": {},
   "source": [
    "## References\n",
    "---\n",
    "- https://www.infoworld.com/article/3632284/python-concurrency-and-parallelism-explained.html\n"
   ]
  }
 ],
 "metadata": {
  "kernelspec": {
   "display_name": "TIL",
   "language": "python",
   "name": "til"
  },
  "language_info": {
   "codemirror_mode": {
    "name": "ipython",
    "version": 3
   },
   "file_extension": ".py",
   "mimetype": "text/x-python",
   "name": "python",
   "nbconvert_exporter": "python",
   "pygments_lexer": "ipython3",
   "version": "3.9.13"
  }
 },
 "nbformat": 4,
 "nbformat_minor": 5
}
