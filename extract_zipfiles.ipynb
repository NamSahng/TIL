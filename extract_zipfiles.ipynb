{
 "cells": [
  {
   "cell_type": "code",
   "execution_count": 1,
   "id": "1e996948",
   "metadata": {},
   "outputs": [],
   "source": [
    "import os \n",
    "import zipfile\n",
    "import glob\n",
    "\n",
    "file_dir = './zipfiles/'\n",
    "\n",
    "files = glob.glob(file_dir+'*')\n",
    "\n",
    "for file in files:\n",
    "    cur_file = zipfile.ZipFile(file)\n",
    "    cur_file.extractall(file_dir)\n",
    "    cur_file.close()\n",
    "    os.remove(file)"
   ]
  },
  {
   "cell_type": "code",
   "execution_count": 2,
   "id": "2a8e47e5",
   "metadata": {},
   "outputs": [],
   "source": [
    "md_files = glob.glob(file_dir+'*.md')\n",
    "\n",
    "for md_file in md_files:\n",
    "    file_name = os.path.split(md_file)[1]\n",
    "    new_file_name = ' '.join(file_name.split(' ')[:-1])+'.md'\n",
    "    os.rename(md_file, os.path.join(file_dir, new_file_name))\n",
    "    "
   ]
  }
 ],
 "metadata": {
  "kernelspec": {
   "display_name": "torch",
   "language": "python",
   "name": "torch"
  },
  "language_info": {
   "codemirror_mode": {
    "name": "ipython",
    "version": 3
   },
   "file_extension": ".py",
   "mimetype": "text/x-python",
   "name": "python",
   "nbconvert_exporter": "python",
   "pygments_lexer": "ipython3",
   "version": "3.8.13"
  }
 },
 "nbformat": 4,
 "nbformat_minor": 5
}
