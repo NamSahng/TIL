{
 "cells": [
  {
   "cell_type": "markdown",
   "id": "4c09d898",
   "metadata": {},
   "source": [
    "## 반복매매모형\n",
    "\n",
    "\n",
    "\n"
   ]
  },
  {
   "cell_type": "code",
   "execution_count": 1,
   "id": "98bafc58",
   "metadata": {},
   "outputs": [
    {
     "data": {
      "text/html": [
       "<div>\n",
       "<style scoped>\n",
       "    .dataframe tbody tr th:only-of-type {\n",
       "        vertical-align: middle;\n",
       "    }\n",
       "\n",
       "    .dataframe tbody tr th {\n",
       "        vertical-align: top;\n",
       "    }\n",
       "\n",
       "    .dataframe thead th {\n",
       "        text-align: right;\n",
       "    }\n",
       "</style>\n",
       "<table border=\"1\" class=\"dataframe\">\n",
       "  <thead>\n",
       "    <tr style=\"text-align: right;\">\n",
       "      <th></th>\n",
       "      <th>6월</th>\n",
       "      <th>7월</th>\n",
       "      <th>8월</th>\n",
       "    </tr>\n",
       "  </thead>\n",
       "  <tbody>\n",
       "    <tr>\n",
       "      <th>0</th>\n",
       "      <td>100.0</td>\n",
       "      <td>NaN</td>\n",
       "      <td>150.0</td>\n",
       "    </tr>\n",
       "    <tr>\n",
       "      <th>1</th>\n",
       "      <td>100.0</td>\n",
       "      <td>NaN</td>\n",
       "      <td>140.0</td>\n",
       "    </tr>\n",
       "    <tr>\n",
       "      <th>2</th>\n",
       "      <td>100.0</td>\n",
       "      <td>NaN</td>\n",
       "      <td>130.0</td>\n",
       "    </tr>\n",
       "    <tr>\n",
       "      <th>3</th>\n",
       "      <td>NaN</td>\n",
       "      <td>130.0</td>\n",
       "      <td>150.0</td>\n",
       "    </tr>\n",
       "    <tr>\n",
       "      <th>4</th>\n",
       "      <td>NaN</td>\n",
       "      <td>120.0</td>\n",
       "      <td>150.0</td>\n",
       "    </tr>\n",
       "    <tr>\n",
       "      <th>5</th>\n",
       "      <td>NaN</td>\n",
       "      <td>110.0</td>\n",
       "      <td>140.0</td>\n",
       "    </tr>\n",
       "    <tr>\n",
       "      <th>6</th>\n",
       "      <td>80.0</td>\n",
       "      <td>100.0</td>\n",
       "      <td>NaN</td>\n",
       "    </tr>\n",
       "    <tr>\n",
       "      <th>7</th>\n",
       "      <td>80.0</td>\n",
       "      <td>110.0</td>\n",
       "      <td>NaN</td>\n",
       "    </tr>\n",
       "    <tr>\n",
       "      <th>8</th>\n",
       "      <td>90.0</td>\n",
       "      <td>100.0</td>\n",
       "      <td>NaN</td>\n",
       "    </tr>\n",
       "  </tbody>\n",
       "</table>\n",
       "</div>"
      ],
      "text/plain": [
       "      6월     7월     8월\n",
       "0  100.0    NaN  150.0\n",
       "1  100.0    NaN  140.0\n",
       "2  100.0    NaN  130.0\n",
       "3    NaN  130.0  150.0\n",
       "4    NaN  120.0  150.0\n",
       "5    NaN  110.0  140.0\n",
       "6   80.0  100.0    NaN\n",
       "7   80.0  110.0    NaN\n",
       "8   90.0  100.0    NaN"
      ]
     },
     "execution_count": 1,
     "metadata": {},
     "output_type": "execute_result"
    }
   ],
   "source": [
    "import numpy as np\n",
    "import pandas as pd\n",
    "\n",
    "price_arr = [[100, None, 150], [100, None, 140], [100, None, 130],\n",
    "            [None, 130, 150], [None, 120, 150], [None, 110, 140],\n",
    "            [80, 100, None], [80, 110, None], [90, 100, None]]\n",
    "\n",
    "trans_arr = [[-1,0,1],[-1,0,1],[-1,0,1],\n",
    "            [0,-1,1],[0,-1,1],[0,-1,1],\n",
    "            [-1,1,0],[-1,1,0],[-1,1,0]]\n",
    "\n",
    "price_df = pd.DataFrame(price_arr, columns=['6월', '7월', '8월'])\n",
    "\n",
    "price_df\n"
   ]
  },
  {
   "cell_type": "code",
   "execution_count": 2,
   "id": "1a8e0306",
   "metadata": {},
   "outputs": [
    {
     "data": {
      "text/plain": [
       "array([[100.        , 120.66740567, 143.69918577]])"
      ]
     },
     "execution_count": 2,
     "metadata": {},
     "output_type": "execute_result"
    }
   ],
   "source": [
    "\n",
    "\n",
    "\n",
    "log_diffs = []\n",
    "for i in range(len(price_df)):\n",
    "    prices = price_df.iloc[i].dropna()\n",
    "    log_diffs.append(np.log(prices[1]/prices[0]))\n",
    "\n",
    "trans_arr = np.array(trans_arr)\n",
    "trans_arr_rm = trans_arr[:,1:]\n",
    "log_diffs = np.array(log_diffs)\n",
    "\n",
    "beta_hat = np.linalg.inv(trans_arr_rm.T @ trans_arr_rm) \\\n",
    "            @ trans_arr_rm.T @ log_diffs\n",
    "\n",
    "indexes = np.array([[1.00] + list(np.exp(beta_hat))]) * 100\n",
    "indexes\n",
    "\n"
   ]
  },
  {
   "cell_type": "markdown",
   "id": "2d8beda7",
   "metadata": {},
   "source": [
    "- References\n",
    "    - https://www.youtube.com/watch?v=jnbEsM7SajA\n"
   ]
  }
 ],
 "metadata": {
  "kernelspec": {
   "display_name": "TIL",
   "language": "python",
   "name": "til"
  },
  "language_info": {
   "codemirror_mode": {
    "name": "ipython",
    "version": 3
   },
   "file_extension": ".py",
   "mimetype": "text/x-python",
   "name": "python",
   "nbconvert_exporter": "python",
   "pygments_lexer": "ipython3",
   "version": "3.9.15"
  }
 },
 "nbformat": 4,
 "nbformat_minor": 5
}
